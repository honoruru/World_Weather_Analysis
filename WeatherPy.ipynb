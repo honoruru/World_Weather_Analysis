{
 "cells": [
  {
   "cell_type": "code",
   "execution_count": 17,
   "id": "69ba18ff",
   "metadata": {},
   "outputs": [],
   "source": [
    "# Import the dependencies.\n",
    "import pandas as pd\n",
    "import matplotlib.pyplot as plt\n",
    "import numpy as np"
   ]
  },
  {
   "cell_type": "code",
   "execution_count": 18,
   "id": "69df771a",
   "metadata": {},
   "outputs": [
    {
     "data": {
      "text/plain": [
       "<zip at 0x28298249fc0>"
      ]
     },
     "execution_count": 18,
     "metadata": {},
     "output_type": "execute_result"
    }
   ],
   "source": [
    "# Create a set of random latitude and longitude combinations.\n",
    "lats = np.random.uniform(low=-90.000, high=90.000, size=1500)\n",
    "lngs = np.random.uniform(low=-180.000, high=180.000, size=1500)\n",
    "lat_lngs = zip(lats, lngs)\n",
    "lat_lngs"
   ]
  },
  {
   "cell_type": "code",
   "execution_count": 19,
   "id": "6972c96b",
   "metadata": {},
   "outputs": [],
   "source": [
    "# Add the latitudes and longitudes to a list.\n",
    "coordinates = list(lat_lngs)"
   ]
  },
  {
   "cell_type": "code",
   "execution_count": 20,
   "id": "23f8a41d",
   "metadata": {},
   "outputs": [],
   "source": [
    "# Use the citipy module to determine city based on latitude and longitude.\n",
    "from citipy import citipy"
   ]
  },
  {
   "cell_type": "code",
   "execution_count": 21,
   "id": "22fc367f",
   "metadata": {},
   "outputs": [
    {
     "data": {
      "text/plain": [
       "626"
      ]
     },
     "execution_count": 21,
     "metadata": {},
     "output_type": "execute_result"
    }
   ],
   "source": [
    "# Create a list for holding the cities.\n",
    "cities = []\n",
    "# Identify the nearest city for each latitude and longitude combination.\n",
    "for coordinate in coordinates:\n",
    "    city = citipy.nearest_city(coordinate[0], coordinate[1]).city_name\n",
    "\n",
    "    # If the city is unique, then we will add it to the cities list.\n",
    "    if city not in cities:\n",
    "        cities.append(city)\n",
    "# Print the city count to confirm sufficient count.\n",
    "len(cities)"
   ]
  },
  {
   "cell_type": "code",
   "execution_count": 22,
   "id": "5260af2f",
   "metadata": {},
   "outputs": [],
   "source": [
    "# STOP HERE"
   ]
  },
  {
   "cell_type": "code",
   "execution_count": 23,
   "id": "8f348102",
   "metadata": {},
   "outputs": [],
   "source": [
    "# Import the requests library.\n",
    "import requests\n",
    "\n",
    "# Import the API key.\n",
    "from config import weather_api_key"
   ]
  },
  {
   "cell_type": "code",
   "execution_count": 24,
   "id": "3830c8ef",
   "metadata": {},
   "outputs": [],
   "source": [
    "# Starting URL for Weather Map API Call.\n",
    "url = \"http://api.openweathermap.org/data/2.5/weather?units=Imperial&APPID=\" + weather_api_key"
   ]
  },
  {
   "cell_type": "code",
   "execution_count": 25,
   "id": "17e0e803",
   "metadata": {},
   "outputs": [],
   "source": [
    "# Create an endpoint URL for a city.\n",
    "city_url = url + \"&q=\" + \"Boston\""
   ]
  },
  {
   "cell_type": "code",
   "execution_count": 26,
   "id": "04381f85",
   "metadata": {},
   "outputs": [
    {
     "data": {
      "text/plain": [
       "<Response [200]>"
      ]
     },
     "execution_count": 26,
     "metadata": {},
     "output_type": "execute_result"
    }
   ],
   "source": [
    "# Make a 'Get' request for the city weather.\n",
    "city_weather = requests.get(city_url)\n",
    "city_weather"
   ]
  },
  {
   "cell_type": "code",
   "execution_count": 27,
   "id": "1676be13",
   "metadata": {},
   "outputs": [
    {
     "data": {
      "text/plain": [
       "<Response [404]>"
      ]
     },
     "execution_count": 27,
     "metadata": {},
     "output_type": "execute_result"
    }
   ],
   "source": [
    "# Create an endpoint URL for a city.\n",
    "city_url = url + \"&q=\" + \"Bston\"\n",
    "city_weather = requests.get(city_url)\n",
    "city_weather"
   ]
  },
  {
   "cell_type": "code",
   "execution_count": 28,
   "id": "ff92bb39",
   "metadata": {},
   "outputs": [
    {
     "data": {
      "text/plain": [
       "<Response [200]>"
      ]
     },
     "execution_count": 28,
     "metadata": {},
     "output_type": "execute_result"
    }
   ],
   "source": [
    "# Create an endpoint URL for a city.\n",
    "city_url = url + \"&q=\" + \"Boston\"\n",
    "city_weather = requests.get(city_url)\n",
    "city_weather"
   ]
  },
  {
   "cell_type": "code",
   "execution_count": 29,
   "id": "ce057ff6",
   "metadata": {},
   "outputs": [
    {
     "data": {
      "text/plain": [
       "'{\"coord\":{\"lon\":-71.0598,\"lat\":42.3584},\"weather\":[{\"id\":800,\"main\":\"Clear\",\"description\":\"clear sky\",\"icon\":\"01n\"}],\"base\":\"stations\",\"main\":{\"temp\":63,\"feels_like\":62.85,\"temp_min\":59.58,\"temp_max\":65.48,\"pressure\":1013,\"humidity\":82},\"visibility\":10000,\"wind\":{\"speed\":3,\"deg\":336,\"gust\":15.01},\"clouds\":{\"all\":0},\"dt\":1626935841,\"sys\":{\"type\":2,\"id\":2013408,\"country\":\"US\",\"sunrise\":1626946022,\"sunset\":1626999241},\"timezone\":-14400,\"id\":4930956,\"name\":\"Boston\",\"cod\":200}'"
      ]
     },
     "execution_count": 29,
     "metadata": {},
     "output_type": "execute_result"
    }
   ],
   "source": [
    "# Get the text of the 'Get' request.\n",
    "city_weather.text"
   ]
  },
  {
   "cell_type": "code",
   "execution_count": 30,
   "id": "eaccc7aa",
   "metadata": {},
   "outputs": [
    {
     "data": {
      "text/plain": [
       "{'coord': {'lon': -71.0598, 'lat': 42.3584},\n",
       " 'weather': [{'id': 800,\n",
       "   'main': 'Clear',\n",
       "   'description': 'clear sky',\n",
       "   'icon': '01n'}],\n",
       " 'base': 'stations',\n",
       " 'main': {'temp': 63,\n",
       "  'feels_like': 62.85,\n",
       "  'temp_min': 59.58,\n",
       "  'temp_max': 65.48,\n",
       "  'pressure': 1013,\n",
       "  'humidity': 82},\n",
       " 'visibility': 10000,\n",
       " 'wind': {'speed': 3, 'deg': 336, 'gust': 15.01},\n",
       " 'clouds': {'all': 0},\n",
       " 'dt': 1626935841,\n",
       " 'sys': {'type': 2,\n",
       "  'id': 2013408,\n",
       "  'country': 'US',\n",
       "  'sunrise': 1626946022,\n",
       "  'sunset': 1626999241},\n",
       " 'timezone': -14400,\n",
       " 'id': 4930956,\n",
       " 'name': 'Boston',\n",
       " 'cod': 200}"
      ]
     },
     "execution_count": 30,
     "metadata": {},
     "output_type": "execute_result"
    }
   ],
   "source": [
    "# Get the JSON text of the 'Get' request.\n",
    "city_weather.json()"
   ]
  },
  {
   "cell_type": "code",
   "execution_count": 31,
   "id": "e37e4339",
   "metadata": {},
   "outputs": [
    {
     "name": "stdout",
     "output_type": "stream",
     "text": [
      "City Weather found.\n"
     ]
    }
   ],
   "source": [
    "# Create an endpoint URL for a city.\n",
    "city_url = url + \"&q=\" + \"Boston\"\n",
    "city_weather = requests.get(city_url)\n",
    "if city_weather.status_code == 200:\n",
    "    print(f\"City Weather found.\")\n",
    "else:\n",
    "    print(f\"City weather not found.\")"
   ]
  },
  {
   "cell_type": "code",
   "execution_count": 32,
   "id": "a44d1044",
   "metadata": {},
   "outputs": [
    {
     "name": "stdout",
     "output_type": "stream",
     "text": [
      "City Weather found.\n"
     ]
    }
   ],
   "source": [
    "# Create an endpoint URL for a city.\n",
    "city_url = url + \"&q=\" + \"Bston\"\n",
    "city_weather = requests.get(city_url)\n",
    "if city_weather.json():\n",
    "    print(f\"City Weather found.\")\n",
    "else:\n",
    "    print(f\"City weather not found.\")"
   ]
  },
  {
   "cell_type": "code",
   "execution_count": 33,
   "id": "790cbbdf",
   "metadata": {},
   "outputs": [
    {
     "data": {
      "text/plain": [
       "{'coord': {'lon': -71.0598, 'lat': 42.3584},\n",
       " 'weather': [{'id': 800,\n",
       "   'main': 'Clear',\n",
       "   'description': 'clear sky',\n",
       "   'icon': '01n'}],\n",
       " 'base': 'stations',\n",
       " 'main': {'temp': 63,\n",
       "  'feels_like': 62.85,\n",
       "  'temp_min': 59.58,\n",
       "  'temp_max': 65.48,\n",
       "  'pressure': 1013,\n",
       "  'humidity': 82},\n",
       " 'visibility': 10000,\n",
       " 'wind': {'speed': 3, 'deg': 336, 'gust': 15.01},\n",
       " 'clouds': {'all': 0},\n",
       " 'dt': 1626935841,\n",
       " 'sys': {'type': 2,\n",
       "  'id': 2013408,\n",
       "  'country': 'US',\n",
       "  'sunrise': 1626946022,\n",
       "  'sunset': 1626999241},\n",
       " 'timezone': -14400,\n",
       " 'id': 4930956,\n",
       " 'name': 'Boston',\n",
       " 'cod': 200}"
      ]
     },
     "execution_count": 33,
     "metadata": {},
     "output_type": "execute_result"
    }
   ],
   "source": [
    "# Create an endpoint URL for a city.\n",
    "city_url = url + \"&q=\" + \"Boston\"\n",
    "city_weather = requests.get(city_url)\n",
    "city_weather.json()"
   ]
  },
  {
   "cell_type": "code",
   "execution_count": 34,
   "id": "199f0ffa",
   "metadata": {},
   "outputs": [],
   "source": [
    "# Get the JSON data.\n",
    "boston_data = city_weather.json()"
   ]
  },
  {
   "cell_type": "code",
   "execution_count": 35,
   "id": "6d6e7e33",
   "metadata": {},
   "outputs": [
    {
     "data": {
      "text/plain": [
       "'US'"
      ]
     },
     "execution_count": 35,
     "metadata": {},
     "output_type": "execute_result"
    }
   ],
   "source": [
    "boston_data['sys']['country']"
   ]
  },
  {
   "cell_type": "code",
   "execution_count": 36,
   "id": "8af64462",
   "metadata": {},
   "outputs": [
    {
     "data": {
      "text/plain": [
       "1626935841"
      ]
     },
     "execution_count": 36,
     "metadata": {},
     "output_type": "execute_result"
    }
   ],
   "source": [
    "boston_data['dt']"
   ]
  },
  {
   "cell_type": "code",
   "execution_count": 37,
   "id": "a6dcd928",
   "metadata": {},
   "outputs": [
    {
     "data": {
      "text/plain": [
       "42.3584"
      ]
     },
     "execution_count": 37,
     "metadata": {},
     "output_type": "execute_result"
    }
   ],
   "source": [
    "boston_data['coord']['lat']"
   ]
  },
  {
   "cell_type": "code",
   "execution_count": 38,
   "id": "92d8828b",
   "metadata": {},
   "outputs": [
    {
     "data": {
      "text/plain": [
       "65.48"
      ]
     },
     "execution_count": 38,
     "metadata": {},
     "output_type": "execute_result"
    }
   ],
   "source": [
    "boston_data[\"main\"][\"temp_max\"]"
   ]
  },
  {
   "cell_type": "code",
   "execution_count": 39,
   "id": "31d1e3e3",
   "metadata": {},
   "outputs": [
    {
     "name": "stdout",
     "output_type": "stream",
     "text": [
      "42.3584 -71.0598 65.48 82 0 3\n"
     ]
    }
   ],
   "source": [
    "lat = boston_data[\"coord\"][\"lat\"]\n",
    "lng = boston_data[\"coord\"][\"lon\"]\n",
    "max_temp = boston_data[\"main\"][\"temp_max\"]\n",
    "humidity = boston_data[\"main\"][\"humidity\"]\n",
    "clouds = boston_data[\"clouds\"][\"all\"]\n",
    "wind = boston_data[\"wind\"][\"speed\"]\n",
    "print(lat, lng, max_temp, humidity, clouds, wind)"
   ]
  },
  {
   "cell_type": "code",
   "execution_count": 40,
   "id": "7a674af7",
   "metadata": {},
   "outputs": [
    {
     "data": {
      "text/plain": [
       "'2021-07-22 06:37:21'"
      ]
     },
     "execution_count": 40,
     "metadata": {},
     "output_type": "execute_result"
    }
   ],
   "source": [
    "# Import the datetime module from the datetime library.\n",
    "from datetime import datetime\n",
    "# Get the date from the JSON file.\n",
    "date = boston_data[\"dt\"]\n",
    "# Convert the UTC date to a date format with year, month, day, hours, minutes, and seconds.\n",
    "datetime.utcfromtimestamp(date).strftime('%Y-%m-%d %H:%M:%S')"
   ]
  },
  {
   "cell_type": "markdown",
   "id": "883e6539",
   "metadata": {},
   "source": [
    "# 6.2.6 Get the City Weather Data"
   ]
  },
  {
   "cell_type": "code",
   "execution_count": 41,
   "id": "ef0eb624",
   "metadata": {},
   "outputs": [],
   "source": [
    "# Import the datetime module from the datetime library.\n",
    "from datetime import datetime"
   ]
  },
  {
   "cell_type": "code",
   "execution_count": 42,
   "id": "a5dd1b55",
   "metadata": {},
   "outputs": [
    {
     "name": "stdout",
     "output_type": "stream",
     "text": [
      "Beginning Data Retrieval     \n",
      "-----------------------------\n"
     ]
    }
   ],
   "source": [
    "# Create an empty list to hold the weather data.\n",
    "city_data = []\n",
    "# Print the beginning of the logging.\n",
    "print(\"Beginning Data Retrieval     \")\n",
    "print(\"-----------------------------\")\n",
    "\n",
    "# Create counters.\n",
    "record_count = 1\n",
    "set_count = 1"
   ]
  },
  {
   "cell_type": "code",
   "execution_count": 43,
   "id": "b33dac76",
   "metadata": {},
   "outputs": [],
   "source": [
    "# # Loop through all the cities in our list.\n",
    "# for i in range(len(cities)):\n",
    "\n",
    "#     # Group cities in sets of 50 for logging purposes.\n",
    "#     if (i % 50 == 0 and i >= 50):\n",
    "#         set_count += 1\n",
    "#         record_count = 1\n",
    "#     # Create endpoint URL with each city.\n",
    "#     city_url = url + \"&q=\" + cities[i]"
   ]
  },
  {
   "cell_type": "code",
   "execution_count": 44,
   "id": "467e2d42",
   "metadata": {},
   "outputs": [
    {
     "name": "stdout",
     "output_type": "stream",
     "text": [
      "Processing Record 1 of Set 1 | nelson bay\n",
      "Processing Record 2 of Set 1 | provideniya\n",
      "Processing Record 3 of Set 1 | chuy\n",
      "Processing Record 4 of Set 1 | boda\n",
      "Processing Record 5 of Set 1 | bluff\n",
      "Processing Record 6 of Set 1 | caravelas\n",
      "Processing Record 7 of Set 1 | punta arenas\n",
      "Processing Record 8 of Set 1 | lagoa\n",
      "Processing Record 9 of Set 1 | belushya guba\n",
      "City not found. Skipping...\n",
      "Processing Record 10 of Set 1 | navahrudak\n",
      "Processing Record 11 of Set 1 | cape town\n",
      "Processing Record 12 of Set 1 | thompson\n",
      "Processing Record 13 of Set 1 | ballina\n",
      "Processing Record 14 of Set 1 | bambous virieux\n",
      "Processing Record 15 of Set 1 | lleida\n",
      "Processing Record 16 of Set 1 | balabac\n",
      "Processing Record 17 of Set 1 | mataura\n",
      "Processing Record 18 of Set 1 | kruisfontein\n",
      "Processing Record 19 of Set 1 | ushuaia\n",
      "Processing Record 20 of Set 1 | lebu\n",
      "Processing Record 21 of Set 1 | njeru\n",
      "Processing Record 22 of Set 1 | waipawa\n",
      "Processing Record 23 of Set 1 | pevek\n",
      "Processing Record 24 of Set 1 | saint-philippe\n",
      "Processing Record 25 of Set 1 | albany\n",
      "Processing Record 26 of Set 1 | tigil\n",
      "Processing Record 27 of Set 1 | hilo\n",
      "Processing Record 28 of Set 1 | thilogne\n",
      "City not found. Skipping...\n",
      "Processing Record 29 of Set 1 | vaini\n",
      "Processing Record 30 of Set 1 | port alfred\n",
      "Processing Record 31 of Set 1 | belize\n",
      "Processing Record 32 of Set 1 | rikitea\n",
      "Processing Record 33 of Set 1 | tres picos\n",
      "Processing Record 34 of Set 1 | bulgan\n",
      "Processing Record 35 of Set 1 | worland\n",
      "Processing Record 36 of Set 1 | sisimiut\n",
      "Processing Record 37 of Set 1 | beringovskiy\n",
      "Processing Record 38 of Set 1 | vuktyl\n",
      "Processing Record 39 of Set 1 | san patricio\n",
      "Processing Record 40 of Set 1 | sentyabrskiy\n",
      "City not found. Skipping...\n",
      "Processing Record 41 of Set 1 | helena\n",
      "Processing Record 42 of Set 1 | moerai\n",
      "Processing Record 43 of Set 1 | ban dung\n",
      "Processing Record 44 of Set 1 | bathsheba\n",
      "Processing Record 45 of Set 1 | hermanus\n",
      "Processing Record 46 of Set 1 | palmer\n",
      "Processing Record 47 of Set 1 | westport\n",
      "Processing Record 48 of Set 1 | cabo san lucas\n",
      "Processing Record 49 of Set 1 | kodiak\n",
      "Processing Record 50 of Set 1 | verkhnyaya inta\n",
      "Processing Record 1 of Set 2 | ullapool\n",
      "Processing Record 2 of Set 2 | dossor\n",
      "Processing Record 3 of Set 2 | barrow\n",
      "Processing Record 4 of Set 2 | taltal\n",
      "Processing Record 5 of Set 2 | bredasdorp\n",
      "Processing Record 6 of Set 2 | torbay\n",
      "Processing Record 7 of Set 2 | atuona\n",
      "Processing Record 8 of Set 2 | yeppoon\n",
      "Processing Record 9 of Set 2 | norman wells\n",
      "Processing Record 10 of Set 2 | launceston\n",
      "Processing Record 11 of Set 2 | nanortalik\n",
      "Processing Record 12 of Set 2 | east london\n",
      "Processing Record 13 of Set 2 | dhidhdhoo\n",
      "Processing Record 14 of Set 2 | dukat\n",
      "Processing Record 15 of Set 2 | saint-pierre\n",
      "Processing Record 16 of Set 2 | deep river\n",
      "Processing Record 17 of Set 2 | puerto baquerizo moreno\n",
      "Processing Record 18 of Set 2 | heishan\n",
      "Processing Record 19 of Set 2 | taolanaro\n",
      "City not found. Skipping...\n",
      "Processing Record 20 of Set 2 | leh\n",
      "Processing Record 21 of Set 2 | bethel\n",
      "Processing Record 22 of Set 2 | constitucion\n",
      "Processing Record 23 of Set 2 | karimganj\n",
      "Processing Record 24 of Set 2 | khatanga\n",
      "Processing Record 25 of Set 2 | illoqqortoormiut\n",
      "City not found. Skipping...\n",
      "Processing Record 26 of Set 2 | hobyo\n",
      "Processing Record 27 of Set 2 | yacopi\n",
      "Processing Record 28 of Set 2 | zhanatas\n",
      "City not found. Skipping...\n",
      "Processing Record 29 of Set 2 | arraial do cabo\n",
      "Processing Record 30 of Set 2 | oistins\n",
      "Processing Record 31 of Set 2 | manica\n",
      "Processing Record 32 of Set 2 | mau aima\n",
      "City not found. Skipping...\n",
      "Processing Record 33 of Set 2 | paka\n",
      "Processing Record 34 of Set 2 | hargeysa\n",
      "Processing Record 35 of Set 2 | saldanha\n",
      "Processing Record 36 of Set 2 | grindavik\n",
      "Processing Record 37 of Set 2 | attawapiskat\n",
      "City not found. Skipping...\n",
      "Processing Record 38 of Set 2 | leeton\n",
      "Processing Record 39 of Set 2 | gornopravdinsk\n",
      "Processing Record 40 of Set 2 | oksfjord\n",
      "Processing Record 41 of Set 2 | dikson\n",
      "Processing Record 42 of Set 2 | marzuq\n",
      "Processing Record 43 of Set 2 | mapiri\n",
      "Processing Record 44 of Set 2 | staryy nadym\n",
      "Processing Record 45 of Set 2 | belaya gora\n",
      "Processing Record 46 of Set 2 | kapaa\n",
      "Processing Record 47 of Set 2 | springfield\n",
      "Processing Record 48 of Set 2 | saint george\n",
      "Processing Record 49 of Set 2 | port elizabeth\n",
      "Processing Record 50 of Set 2 | busselton\n",
      "Processing Record 1 of Set 3 | ponta do sol\n",
      "Processing Record 2 of Set 3 | tanda\n",
      "Processing Record 3 of Set 3 | leningradskiy\n",
      "Processing Record 4 of Set 3 | ulladulla\n",
      "Processing Record 5 of Set 3 | faanui\n",
      "Processing Record 6 of Set 3 | milkovo\n",
      "Processing Record 7 of Set 3 | castro\n",
      "Processing Record 8 of Set 3 | bengkulu\n",
      "Processing Record 9 of Set 3 | maloshuyka\n",
      "City not found. Skipping...\n",
      "Processing Record 10 of Set 3 | saskylakh\n",
      "Processing Record 11 of Set 3 | varna\n",
      "Processing Record 12 of Set 3 | san quintin\n",
      "Processing Record 13 of Set 3 | saint-francois\n",
      "Processing Record 14 of Set 3 | new norfolk\n",
      "Processing Record 15 of Set 3 | sinazongwe\n",
      "Processing Record 16 of Set 3 | gunjur\n",
      "Processing Record 17 of Set 3 | port-gentil\n",
      "Processing Record 18 of Set 3 | kaitangata\n",
      "Processing Record 19 of Set 3 | nikolskoye\n",
      "Processing Record 20 of Set 3 | sydney mines\n",
      "Processing Record 21 of Set 3 | paamiut\n",
      "Processing Record 22 of Set 3 | carnarvon\n",
      "Processing Record 23 of Set 3 | yulara\n",
      "Processing Record 24 of Set 3 | kashan\n",
      "Processing Record 25 of Set 3 | mar del plata\n",
      "Processing Record 26 of Set 3 | tarakan\n",
      "Processing Record 27 of Set 3 | georgetown\n",
      "Processing Record 28 of Set 3 | wajima\n",
      "Processing Record 29 of Set 3 | kidodi\n",
      "Processing Record 30 of Set 3 | hobart\n",
      "Processing Record 31 of Set 3 | hambantota\n",
      "Processing Record 32 of Set 3 | boa vista\n",
      "Processing Record 33 of Set 3 | mayor pablo lagerenza\n",
      "Processing Record 34 of Set 3 | jamestown\n",
      "Processing Record 35 of Set 3 | rundu\n",
      "Processing Record 36 of Set 3 | partyzany\n",
      "Processing Record 37 of Set 3 | kavaratti\n",
      "Processing Record 38 of Set 3 | cao bang\n",
      "Processing Record 39 of Set 3 | anadyr\n",
      "Processing Record 40 of Set 3 | solnechnyy\n",
      "Processing Record 41 of Set 3 | adrar\n",
      "Processing Record 42 of Set 3 | kizilskoye\n",
      "Processing Record 43 of Set 3 | vaitupu\n",
      "City not found. Skipping...\n",
      "Processing Record 44 of Set 3 | katsuura\n",
      "Processing Record 45 of Set 3 | sinnamary\n",
      "Processing Record 46 of Set 3 | chokurdakh\n",
      "Processing Record 47 of Set 3 | xam nua\n",
      "Processing Record 48 of Set 3 | kapit\n",
      "Processing Record 49 of Set 3 | birao\n",
      "Processing Record 50 of Set 3 | taoudenni\n",
      "Processing Record 1 of Set 4 | trabzon\n",
      "Processing Record 2 of Set 4 | paradwip\n",
      "City not found. Skipping...\n",
      "Processing Record 3 of Set 4 | bossembele\n",
      "City not found. Skipping...\n",
      "Processing Record 4 of Set 4 | gizo\n",
      "Processing Record 5 of Set 4 | pringsewu\n",
      "Processing Record 6 of Set 4 | preobrazheniye\n",
      "Processing Record 7 of Set 4 | guerrero negro\n",
      "Processing Record 8 of Set 4 | monastyrshchina\n",
      "Processing Record 9 of Set 4 | qaanaaq\n",
      "Processing Record 10 of Set 4 | zhongshu\n",
      "Processing Record 11 of Set 4 | fort walton beach\n",
      "Processing Record 12 of Set 4 | amderma\n",
      "City not found. Skipping...\n",
      "Processing Record 13 of Set 4 | kloulklubed\n",
      "Processing Record 14 of Set 4 | vanavara\n",
      "Processing Record 15 of Set 4 | pak phanang\n",
      "Processing Record 16 of Set 4 | verkhoyansk\n",
      "Processing Record 17 of Set 4 | pingliang\n",
      "Processing Record 18 of Set 4 | cherskiy\n",
      "Processing Record 19 of Set 4 | yizheng\n",
      "Processing Record 20 of Set 4 | satis\n",
      "Processing Record 21 of Set 4 | barentsburg\n",
      "City not found. Skipping...\n",
      "Processing Record 22 of Set 4 | anyama\n",
      "Processing Record 23 of Set 4 | carballo\n",
      "Processing Record 24 of Set 4 | bonwapitse\n",
      "Processing Record 25 of Set 4 | fenoarivo atsinanana\n",
      "Processing Record 26 of Set 4 | tahoua\n",
      "Processing Record 27 of Set 4 | camacha\n",
      "Processing Record 28 of Set 4 | portland\n",
      "Processing Record 29 of Set 4 | hithadhoo\n",
      "Processing Record 30 of Set 4 | luderitz\n",
      "Processing Record 31 of Set 4 | manihari\n",
      "Processing Record 32 of Set 4 | saint-georges\n",
      "Processing Record 33 of Set 4 | meulaboh\n",
      "Processing Record 34 of Set 4 | fortuna\n",
      "Processing Record 35 of Set 4 | dingle\n",
      "Processing Record 36 of Set 4 | clyde river\n",
      "Processing Record 37 of Set 4 | raudeberg\n",
      "Processing Record 38 of Set 4 | kavieng\n"
     ]
    },
    {
     "name": "stdout",
     "output_type": "stream",
     "text": [
      "Processing Record 39 of Set 4 | waitati\n",
      "Processing Record 40 of Set 4 | dondo\n",
      "Processing Record 41 of Set 4 | chifeng\n",
      "Processing Record 42 of Set 4 | ogulin\n",
      "Processing Record 43 of Set 4 | viedma\n",
      "Processing Record 44 of Set 4 | wajir\n",
      "Processing Record 45 of Set 4 | awbari\n",
      "Processing Record 46 of Set 4 | homa bay\n",
      "Processing Record 47 of Set 4 | santiago del estero\n",
      "Processing Record 48 of Set 4 | dunedin\n",
      "Processing Record 49 of Set 4 | watsa\n",
      "Processing Record 50 of Set 4 | laguna\n",
      "Processing Record 1 of Set 5 | toftir\n",
      "City not found. Skipping...\n",
      "Processing Record 2 of Set 5 | hua hin\n",
      "Processing Record 3 of Set 5 | henties bay\n",
      "Processing Record 4 of Set 5 | anloga\n",
      "Processing Record 5 of Set 5 | butaritari\n",
      "Processing Record 6 of Set 5 | puerto ayora\n",
      "Processing Record 7 of Set 5 | vila franca do campo\n",
      "Processing Record 8 of Set 5 | ribeira grande\n",
      "Processing Record 9 of Set 5 | airai\n",
      "Processing Record 10 of Set 5 | tuktoyaktuk\n",
      "Processing Record 11 of Set 5 | college\n",
      "Processing Record 12 of Set 5 | bucerias\n",
      "Processing Record 13 of Set 5 | salalah\n",
      "Processing Record 14 of Set 5 | upernavik\n",
      "Processing Record 15 of Set 5 | tasiilaq\n",
      "Processing Record 16 of Set 5 | longyearbyen\n",
      "Processing Record 17 of Set 5 | geresk\n",
      "City not found. Skipping...\n",
      "Processing Record 18 of Set 5 | nalut\n",
      "Processing Record 19 of Set 5 | hanting\n",
      "Processing Record 20 of Set 5 | tabiauea\n",
      "City not found. Skipping...\n",
      "Processing Record 21 of Set 5 | souillac\n",
      "Processing Record 22 of Set 5 | popondetta\n",
      "Processing Record 23 of Set 5 | vila velha\n",
      "Processing Record 24 of Set 5 | nenjiang\n",
      "Processing Record 25 of Set 5 | olafsvik\n",
      "Processing Record 26 of Set 5 | napanee\n",
      "Processing Record 27 of Set 5 | burnie\n",
      "Processing Record 28 of Set 5 | qasigiannguit\n",
      "Processing Record 29 of Set 5 | bom jesus\n",
      "Processing Record 30 of Set 5 | narsaq\n",
      "Processing Record 31 of Set 5 | krasnovishersk\n",
      "Processing Record 32 of Set 5 | husavik\n",
      "Processing Record 33 of Set 5 | mto wa mbu\n",
      "Processing Record 34 of Set 5 | touros\n",
      "Processing Record 35 of Set 5 | silver city\n",
      "Processing Record 36 of Set 5 | bermeo\n",
      "Processing Record 37 of Set 5 | daokou\n",
      "Processing Record 38 of Set 5 | andenes\n",
      "Processing Record 39 of Set 5 | lompoc\n",
      "Processing Record 40 of Set 5 | alice springs\n",
      "Processing Record 41 of Set 5 | smithers\n",
      "Processing Record 42 of Set 5 | mys shmidta\n",
      "City not found. Skipping...\n",
      "Processing Record 43 of Set 5 | san cristobal\n",
      "Processing Record 44 of Set 5 | qujing\n",
      "Processing Record 45 of Set 5 | chateauroux\n",
      "Processing Record 46 of Set 5 | sola\n",
      "Processing Record 47 of Set 5 | acapulco\n",
      "Processing Record 48 of Set 5 | kananga\n",
      "Processing Record 49 of Set 5 | scarborough\n",
      "Processing Record 50 of Set 5 | taungdwingyi\n",
      "Processing Record 1 of Set 6 | kollumerland\n",
      "City not found. Skipping...\n",
      "Processing Record 2 of Set 6 | nome\n",
      "Processing Record 3 of Set 6 | fairbanks\n",
      "Processing Record 4 of Set 6 | lorengau\n",
      "Processing Record 5 of Set 6 | afmadu\n",
      "City not found. Skipping...\n",
      "Processing Record 6 of Set 6 | bontang\n",
      "Processing Record 7 of Set 6 | stoyba\n",
      "City not found. Skipping...\n",
      "Processing Record 8 of Set 6 | porto novo\n",
      "Processing Record 9 of Set 6 | newport\n",
      "Processing Record 10 of Set 6 | victoria\n",
      "Processing Record 11 of Set 6 | veshenskaya\n",
      "Processing Record 12 of Set 6 | flinders\n",
      "Processing Record 13 of Set 6 | tyler\n",
      "Processing Record 14 of Set 6 | broome\n",
      "Processing Record 15 of Set 6 | suntar\n",
      "Processing Record 16 of Set 6 | tilichiki\n",
      "Processing Record 17 of Set 6 | iqaluit\n",
      "Processing Record 18 of Set 6 | tuatapere\n",
      "Processing Record 19 of Set 6 | monrovia\n",
      "Processing Record 20 of Set 6 | kodoli\n",
      "Processing Record 21 of Set 6 | gayny\n",
      "Processing Record 22 of Set 6 | tukrah\n",
      "Processing Record 23 of Set 6 | kalamare\n",
      "Processing Record 24 of Set 6 | baoqing\n",
      "Processing Record 25 of Set 6 | shubarkuduk\n",
      "Processing Record 26 of Set 6 | qarayeri\n",
      "Processing Record 27 of Set 6 | quthing\n",
      "Processing Record 28 of Set 6 | ahipara\n",
      "Processing Record 29 of Set 6 | gazojak\n",
      "Processing Record 30 of Set 6 | peniche\n",
      "Processing Record 31 of Set 6 | berikulskiy\n",
      "City not found. Skipping...\n",
      "Processing Record 32 of Set 6 | coulihaut\n",
      "City not found. Skipping...\n",
      "Processing Record 33 of Set 6 | mogadishu\n",
      "Processing Record 34 of Set 6 | nara\n",
      "Processing Record 35 of Set 6 | sumbe\n",
      "Processing Record 36 of Set 6 | port hardy\n",
      "Processing Record 37 of Set 6 | general roca\n",
      "Processing Record 38 of Set 6 | marsh harbour\n",
      "Processing Record 39 of Set 6 | ust-karsk\n",
      "Processing Record 40 of Set 6 | shimoda\n",
      "Processing Record 41 of Set 6 | poum\n",
      "Processing Record 42 of Set 6 | dali\n",
      "Processing Record 43 of Set 6 | hamilton\n",
      "Processing Record 44 of Set 6 | bastos\n",
      "Processing Record 45 of Set 6 | margate\n",
      "Processing Record 46 of Set 6 | calahorra\n",
      "Processing Record 47 of Set 6 | shingu\n",
      "Processing Record 48 of Set 6 | wairoa\n",
      "Processing Record 49 of Set 6 | remanso\n",
      "Processing Record 50 of Set 6 | avarua\n",
      "Processing Record 1 of Set 7 | ambilobe\n",
      "Processing Record 2 of Set 7 | ancud\n",
      "Processing Record 3 of Set 7 | jacmel\n",
      "Processing Record 4 of Set 7 | olkhovka\n",
      "Processing Record 5 of Set 7 | sao filipe\n",
      "Processing Record 6 of Set 7 | qaqortoq\n",
      "Processing Record 7 of Set 7 | meyungs\n",
      "City not found. Skipping...\n",
      "Processing Record 8 of Set 7 | xuddur\n",
      "Processing Record 9 of Set 7 | nuuk\n",
      "Processing Record 10 of Set 7 | formosa\n",
      "Processing Record 11 of Set 7 | sorland\n",
      "Processing Record 12 of Set 7 | pangnirtung\n",
      "Processing Record 13 of Set 7 | impfondo\n",
      "Processing Record 14 of Set 7 | bonthe\n",
      "Processing Record 15 of Set 7 | ugoofaaru\n",
      "Processing Record 16 of Set 7 | bubaque\n",
      "Processing Record 17 of Set 7 | shieli\n",
      "Processing Record 18 of Set 7 | vetlanda\n",
      "Processing Record 19 of Set 7 | batavia\n",
      "Processing Record 20 of Set 7 | oyama\n",
      "Processing Record 21 of Set 7 | port blair\n",
      "Processing Record 22 of Set 7 | hualmay\n",
      "Processing Record 23 of Set 7 | santa cruz\n",
      "Processing Record 24 of Set 7 | bagotville\n",
      "Processing Record 25 of Set 7 | mineros\n",
      "Processing Record 26 of Set 7 | kollo\n",
      "Processing Record 27 of Set 7 | severo-kurilsk\n",
      "Processing Record 28 of Set 7 | marystown\n",
      "Processing Record 29 of Set 7 | yellowknife\n",
      "Processing Record 30 of Set 7 | cap malheureux\n",
      "Processing Record 31 of Set 7 | rosetown\n",
      "Processing Record 32 of Set 7 | cayenne\n",
      "Processing Record 33 of Set 7 | ivanivka\n",
      "Processing Record 34 of Set 7 | coihaique\n",
      "Processing Record 35 of Set 7 | arilje\n",
      "Processing Record 36 of Set 7 | paris\n",
      "Processing Record 37 of Set 7 | grand gaube\n",
      "Processing Record 38 of Set 7 | kieta\n",
      "Processing Record 39 of Set 7 | hirara\n",
      "Processing Record 40 of Set 7 | natal\n",
      "Processing Record 41 of Set 7 | chama\n",
      "Processing Record 42 of Set 7 | chagda\n",
      "City not found. Skipping...\n",
      "Processing Record 43 of Set 7 | cascavel\n",
      "Processing Record 44 of Set 7 | sao sebastiao\n",
      "Processing Record 45 of Set 7 | ilulissat\n",
      "Processing Record 46 of Set 7 | mahebourg\n",
      "Processing Record 47 of Set 7 | blagoyevo\n",
      "Processing Record 48 of Set 7 | masallatah\n",
      "Processing Record 49 of Set 7 | kangasala\n",
      "Processing Record 50 of Set 7 | staroye drozhzhanoye\n",
      "Processing Record 1 of Set 8 | lakewood\n",
      "Processing Record 2 of Set 8 | pedro carbo\n",
      "Processing Record 3 of Set 8 | dudinka\n",
      "Processing Record 4 of Set 8 | youkounkoun\n",
      "Processing Record 5 of Set 8 | lima\n",
      "Processing Record 6 of Set 8 | saint-paul\n",
      "Processing Record 7 of Set 8 | ostrovnoy\n",
      "Processing Record 8 of Set 8 | nathdwara\n",
      "Processing Record 9 of Set 8 | yiyang\n",
      "Processing Record 10 of Set 8 | yerbogachen\n",
      "Processing Record 11 of Set 8 | morant bay\n",
      "Processing Record 12 of Set 8 | buraydah\n",
      "Processing Record 13 of Set 8 | almaznyy\n",
      "Processing Record 14 of Set 8 | yangambi\n",
      "Processing Record 15 of Set 8 | manono\n",
      "Processing Record 16 of Set 8 | bastia\n",
      "Processing Record 17 of Set 8 | umtata\n",
      "Processing Record 18 of Set 8 | esna\n",
      "Processing Record 19 of Set 8 | batagay\n",
      "Processing Record 20 of Set 8 | nouadhibou\n",
      "Processing Record 21 of Set 8 | sinop\n",
      "Processing Record 22 of Set 8 | samarai\n",
      "Processing Record 23 of Set 8 | dolbeau\n",
      "City not found. Skipping...\n",
      "Processing Record 24 of Set 8 | hunza\n",
      "City not found. Skipping...\n",
      "Processing Record 25 of Set 8 | longjiang\n",
      "Processing Record 26 of Set 8 | pueblo\n",
      "Processing Record 27 of Set 8 | charters towers\n",
      "Processing Record 28 of Set 8 | zyryanka\n",
      "Processing Record 29 of Set 8 | alta floresta\n",
      "Processing Record 30 of Set 8 | tornio\n"
     ]
    },
    {
     "name": "stdout",
     "output_type": "stream",
     "text": [
      "Processing Record 31 of Set 8 | berbera\n",
      "Processing Record 32 of Set 8 | corn island\n",
      "Processing Record 33 of Set 8 | marcona\n",
      "City not found. Skipping...\n",
      "Processing Record 34 of Set 8 | bossangoa\n",
      "Processing Record 35 of Set 8 | aksarka\n",
      "Processing Record 36 of Set 8 | fomboni\n",
      "Processing Record 37 of Set 8 | bairiki\n",
      "Processing Record 38 of Set 8 | zhuhai\n",
      "Processing Record 39 of Set 8 | mpraeso\n",
      "Processing Record 40 of Set 8 | sur\n",
      "Processing Record 41 of Set 8 | south venice\n",
      "Processing Record 42 of Set 8 | nizhneyansk\n",
      "City not found. Skipping...\n",
      "Processing Record 43 of Set 8 | broken hill\n",
      "Processing Record 44 of Set 8 | tiksi\n",
      "Processing Record 45 of Set 8 | ucluelet\n",
      "Processing Record 46 of Set 8 | grand river south east\n",
      "City not found. Skipping...\n",
      "Processing Record 47 of Set 8 | vardo\n",
      "Processing Record 48 of Set 8 | panguipulli\n",
      "Processing Record 49 of Set 8 | baykit\n",
      "Processing Record 50 of Set 8 | ligayan\n",
      "Processing Record 1 of Set 9 | lolua\n",
      "City not found. Skipping...\n",
      "Processing Record 2 of Set 9 | northam\n",
      "Processing Record 3 of Set 9 | neyshabur\n",
      "Processing Record 4 of Set 9 | souris\n",
      "Processing Record 5 of Set 9 | taunggyi\n",
      "Processing Record 6 of Set 9 | padang\n",
      "Processing Record 7 of Set 9 | nishihara\n",
      "Processing Record 8 of Set 9 | luanda\n",
      "Processing Record 9 of Set 9 | leua\n",
      "Processing Record 10 of Set 9 | sept-iles\n",
      "Processing Record 11 of Set 9 | chandbali\n",
      "Processing Record 12 of Set 9 | chernyshevskiy\n",
      "Processing Record 13 of Set 9 | udachnyy\n",
      "Processing Record 14 of Set 9 | nangong\n",
      "Processing Record 15 of Set 9 | kotdwara\n",
      "Processing Record 16 of Set 9 | yar-sale\n",
      "Processing Record 17 of Set 9 | yuzhno-kurilsk\n",
      "Processing Record 18 of Set 9 | cidreira\n",
      "Processing Record 19 of Set 9 | semirom\n",
      "Processing Record 20 of Set 9 | falun\n",
      "Processing Record 21 of Set 9 | atbasar\n",
      "Processing Record 22 of Set 9 | namatanai\n",
      "Processing Record 23 of Set 9 | boralday\n",
      "Processing Record 24 of Set 9 | smolensk\n",
      "Processing Record 25 of Set 9 | srednekolymsk\n",
      "Processing Record 26 of Set 9 | sozimskiy\n",
      "Processing Record 27 of Set 9 | palabuhanratu\n",
      "City not found. Skipping...\n",
      "Processing Record 28 of Set 9 | saleaula\n",
      "City not found. Skipping...\n",
      "Processing Record 29 of Set 9 | bonavista\n",
      "Processing Record 30 of Set 9 | buqayq\n",
      "City not found. Skipping...\n",
      "Processing Record 31 of Set 9 | glenwood springs\n",
      "Processing Record 32 of Set 9 | khonsa\n",
      "Processing Record 33 of Set 9 | luanshya\n",
      "Processing Record 34 of Set 9 | avera\n",
      "Processing Record 35 of Set 9 | majalgaon\n",
      "Processing Record 36 of Set 9 | bac can\n",
      "City not found. Skipping...\n",
      "Processing Record 37 of Set 9 | esperance\n",
      "Processing Record 38 of Set 9 | anchorage\n",
      "Processing Record 39 of Set 9 | pisco\n",
      "Processing Record 40 of Set 9 | kuche\n",
      "City not found. Skipping...\n",
      "Processing Record 41 of Set 9 | hasaki\n",
      "Processing Record 42 of Set 9 | mitsamiouli\n",
      "Processing Record 43 of Set 9 | montoro\n",
      "Processing Record 44 of Set 9 | zheleznogorsk-ilimskiy\n",
      "Processing Record 45 of Set 9 | khash\n",
      "Processing Record 46 of Set 9 | ginda\n",
      "Processing Record 47 of Set 9 | bolungarvik\n",
      "City not found. Skipping...\n",
      "Processing Record 48 of Set 9 | othonoi\n",
      "City not found. Skipping...\n",
      "Processing Record 49 of Set 9 | cockburn town\n",
      "Processing Record 50 of Set 9 | sioux lookout\n",
      "Processing Record 1 of Set 10 | staryy oskol\n",
      "Processing Record 2 of Set 10 | sabang\n",
      "Processing Record 3 of Set 10 | sampang\n",
      "Processing Record 4 of Set 10 | luang prabang\n",
      "Processing Record 5 of Set 10 | zabaykalsk\n",
      "Processing Record 6 of Set 10 | kayerkan\n",
      "Processing Record 7 of Set 10 | pomabamba\n",
      "Processing Record 8 of Set 10 | rocha\n",
      "Processing Record 9 of Set 10 | naryan-mar\n",
      "Processing Record 10 of Set 10 | petropavlovsk-kamchatskiy\n",
      "Processing Record 11 of Set 10 | komsomolskiy\n",
      "Processing Record 12 of Set 10 | atambua\n",
      "Processing Record 13 of Set 10 | kiparissia\n",
      "City not found. Skipping...\n",
      "Processing Record 14 of Set 10 | missoula\n",
      "Processing Record 15 of Set 10 | paita\n",
      "Processing Record 16 of Set 10 | yabrud\n",
      "Processing Record 17 of Set 10 | mariental\n",
      "Processing Record 18 of Set 10 | hovd\n",
      "Processing Record 19 of Set 10 | mastic beach\n",
      "Processing Record 20 of Set 10 | brookings\n",
      "Processing Record 21 of Set 10 | kalakamati\n",
      "Processing Record 22 of Set 10 | nguiu\n",
      "City not found. Skipping...\n",
      "Processing Record 23 of Set 10 | havre-saint-pierre\n",
      "Processing Record 24 of Set 10 | nantucket\n",
      "Processing Record 25 of Set 10 | rawson\n",
      "Processing Record 26 of Set 10 | susanville\n",
      "Processing Record 27 of Set 10 | neiafu\n",
      "Processing Record 28 of Set 10 | gospic\n",
      "Processing Record 29 of Set 10 | ksenyevka\n",
      "City not found. Skipping...\n",
      "Processing Record 30 of Set 10 | naze\n",
      "Processing Record 31 of Set 10 | umzimvubu\n",
      "City not found. Skipping...\n",
      "Processing Record 32 of Set 10 | muros\n",
      "Processing Record 33 of Set 10 | hailey\n",
      "Processing Record 34 of Set 10 | sargatskoye\n",
      "Processing Record 35 of Set 10 | warwick\n",
      "Processing Record 36 of Set 10 | port lincoln\n",
      "Processing Record 37 of Set 10 | quelimane\n",
      "Processing Record 38 of Set 10 | marand\n",
      "Processing Record 39 of Set 10 | banda aceh\n",
      "Processing Record 40 of Set 10 | vanimo\n",
      "Processing Record 41 of Set 10 | faya\n",
      "Processing Record 42 of Set 10 | xinye\n",
      "Processing Record 43 of Set 10 | taquarituba\n",
      "Processing Record 44 of Set 10 | samusu\n",
      "City not found. Skipping...\n",
      "Processing Record 45 of Set 10 | coquimbo\n",
      "Processing Record 46 of Set 10 | batagay-alyta\n",
      "Processing Record 47 of Set 10 | pangai\n",
      "Processing Record 48 of Set 10 | pacific grove\n",
      "Processing Record 49 of Set 10 | muttupet\n",
      "Processing Record 50 of Set 10 | alofi\n",
      "Processing Record 1 of Set 11 | jibuti\n",
      "Processing Record 2 of Set 11 | itarema\n",
      "Processing Record 3 of Set 11 | halifax\n",
      "Processing Record 4 of Set 11 | katangli\n",
      "Processing Record 5 of Set 11 | lyubashivka\n",
      "Processing Record 6 of Set 11 | mersing\n",
      "Processing Record 7 of Set 11 | acoyapa\n",
      "Processing Record 8 of Set 11 | vila\n",
      "Processing Record 9 of Set 11 | russell\n",
      "Processing Record 10 of Set 11 | vallenar\n",
      "Processing Record 11 of Set 11 | waddan\n",
      "Processing Record 12 of Set 11 | isangel\n",
      "Processing Record 13 of Set 11 | lar gerd\n",
      "City not found. Skipping...\n",
      "Processing Record 14 of Set 11 | lavrentiya\n",
      "Processing Record 15 of Set 11 | besikduzu\n",
      "Processing Record 16 of Set 11 | vadso\n",
      "Processing Record 17 of Set 11 | owando\n",
      "Processing Record 18 of Set 11 | makubetsu\n",
      "Processing Record 19 of Set 11 | dutlwe\n",
      "Processing Record 20 of Set 11 | elat\n",
      "Processing Record 21 of Set 11 | kenai\n",
      "Processing Record 22 of Set 11 | plettenberg bay\n",
      "Processing Record 23 of Set 11 | christchurch\n",
      "Processing Record 24 of Set 11 | cockburn harbour\n",
      "City not found. Skipping...\n",
      "Processing Record 25 of Set 11 | longido\n",
      "Processing Record 26 of Set 11 | fare\n",
      "Processing Record 27 of Set 11 | douglas\n",
      "Processing Record 28 of Set 11 | moses lake\n",
      "Processing Record 29 of Set 11 | skjervoy\n",
      "Processing Record 30 of Set 11 | ulaanbaatar\n",
      "Processing Record 31 of Set 11 | marawi\n",
      "Processing Record 32 of Set 11 | mercedes\n",
      "Processing Record 33 of Set 11 | codrington\n",
      "Processing Record 34 of Set 11 | cabra\n",
      "Processing Record 35 of Set 11 | pelotas\n",
      "Processing Record 36 of Set 11 | bilibino\n",
      "Processing Record 37 of Set 11 | santarem\n",
      "Processing Record 38 of Set 11 | hit\n",
      "Processing Record 39 of Set 11 | te anau\n",
      "Processing Record 40 of Set 11 | labuhan\n",
      "Processing Record 41 of Set 11 | marienburg\n",
      "Processing Record 42 of Set 11 | jumla\n",
      "Processing Record 43 of Set 11 | mount gambier\n",
      "Processing Record 44 of Set 11 | san carlos de bariloche\n",
      "Processing Record 45 of Set 11 | nizhnevartovsk\n",
      "Processing Record 46 of Set 11 | maua\n",
      "Processing Record 47 of Set 11 | pedernales\n",
      "Processing Record 48 of Set 11 | fazilka\n",
      "Processing Record 49 of Set 11 | strezhevoy\n",
      "Processing Record 50 of Set 11 | miandrivazo\n",
      "Processing Record 1 of Set 12 | alhaurin el grande\n",
      "Processing Record 2 of Set 12 | mayo\n",
      "Processing Record 3 of Set 12 | riberalta\n",
      "Processing Record 4 of Set 12 | kuvandyk\n",
      "Processing Record 5 of Set 12 | lieksa\n",
      "Processing Record 6 of Set 12 | bajo baudo\n",
      "City not found. Skipping...\n",
      "Processing Record 7 of Set 12 | karasjok\n",
      "Processing Record 8 of Set 12 | tuy hoa\n",
      "Processing Record 9 of Set 12 | red deer\n",
      "Processing Record 10 of Set 12 | wattegama\n",
      "Processing Record 11 of Set 12 | panama city\n",
      "Processing Record 12 of Set 12 | karratha\n",
      "Processing Record 13 of Set 12 | quatre cocos\n"
     ]
    },
    {
     "name": "stdout",
     "output_type": "stream",
     "text": [
      "Processing Record 14 of Set 12 | vostok\n",
      "Processing Record 15 of Set 12 | kijang\n",
      "Processing Record 16 of Set 12 | saint-augustin\n",
      "Processing Record 17 of Set 12 | oneonta\n",
      "Processing Record 18 of Set 12 | miraflores\n",
      "Processing Record 19 of Set 12 | sulphur\n",
      "Processing Record 20 of Set 12 | santa juliana\n",
      "Processing Record 21 of Set 12 | sault sainte marie\n",
      "Processing Record 22 of Set 12 | harper\n",
      "Processing Record 23 of Set 12 | chongoyape\n",
      "Processing Record 24 of Set 12 | mangai\n",
      "Processing Record 25 of Set 12 | winnemucca\n",
      "Processing Record 26 of Set 12 | poltava\n",
      "Processing Record 27 of Set 12 | tongliao\n",
      "Processing Record 28 of Set 12 | sorrento\n",
      "Processing Record 29 of Set 12 | birin\n",
      "Processing Record 30 of Set 12 | bolshaya rechka\n",
      "Processing Record 31 of Set 12 | kahului\n",
      "Processing Record 32 of Set 12 | la seyne-sur-mer\n",
      "Processing Record 33 of Set 12 | viligili\n",
      "City not found. Skipping...\n",
      "Processing Record 34 of Set 12 | mbarara\n",
      "Processing Record 35 of Set 12 | cavalcante\n",
      "Processing Record 36 of Set 12 | fort nelson\n",
      "Processing Record 37 of Set 12 | esmeralda\n",
      "Processing Record 38 of Set 12 | aykhal\n",
      "Processing Record 39 of Set 12 | takoradi\n",
      "Processing Record 40 of Set 12 | penugonda\n",
      "Processing Record 41 of Set 12 | leshukonskoye\n",
      "Processing Record 42 of Set 12 | amga\n",
      "Processing Record 43 of Set 12 | brokopondo\n",
      "Processing Record 44 of Set 12 | guarapari\n",
      "Processing Record 45 of Set 12 | romny\n",
      "Processing Record 46 of Set 12 | martinsburg\n",
      "Processing Record 47 of Set 12 | kaeo\n",
      "Processing Record 48 of Set 12 | price\n",
      "Processing Record 49 of Set 12 | madimba\n",
      "Processing Record 50 of Set 12 | zhigansk\n",
      "Processing Record 1 of Set 13 | ryotsu\n",
      "Processing Record 2 of Set 13 | sterling\n",
      "Processing Record 3 of Set 13 | kismayo\n",
      "Processing Record 4 of Set 13 | coolum beach\n",
      "Processing Record 5 of Set 13 | tabuk\n",
      "Processing Record 6 of Set 13 | nefteyugansk\n",
      "Processing Record 7 of Set 13 | shelburne\n",
      "Processing Record 8 of Set 13 | beira\n",
      "Processing Record 9 of Set 13 | hailar\n",
      "Processing Record 10 of Set 13 | formoso do araguaia\n",
      "City not found. Skipping...\n",
      "Processing Record 11 of Set 13 | jaru\n",
      "Processing Record 12 of Set 13 | buala\n",
      "Processing Record 13 of Set 13 | vestmanna\n",
      "Processing Record 14 of Set 13 | dicabisagan\n",
      "Processing Record 15 of Set 13 | navirai\n",
      "Processing Record 16 of Set 13 | cristalina\n",
      "Processing Record 17 of Set 13 | mushie\n",
      "Processing Record 18 of Set 13 | jiroft\n",
      "City not found. Skipping...\n",
      "Processing Record 19 of Set 13 | xinmin\n",
      "Processing Record 20 of Set 13 | catamarca\n",
      "Processing Record 21 of Set 13 | jablanica\n",
      "Processing Record 22 of Set 13 | salinas\n",
      "Processing Record 23 of Set 13 | roebourne\n",
      "Processing Record 24 of Set 13 | anjar\n",
      "Processing Record 25 of Set 13 | sorvag\n",
      "City not found. Skipping...\n",
      "Processing Record 26 of Set 13 | burica\n",
      "City not found. Skipping...\n",
      "-----------------------------\n",
      "Data Retrieval Complete      \n",
      "-----------------------------\n"
     ]
    }
   ],
   "source": [
    "# Loop through all the cities in the list.\n",
    "for i, city in enumerate(cities):\n",
    "\n",
    "    # Group cities in sets of 50 for logging purposes.\n",
    "    if (i % 50 == 0 and i >= 50):\n",
    "        set_count += 1\n",
    "        record_count = 1\n",
    "    # Create endpoint URL with each city.\n",
    "    city_url = url + \"&q=\" + city.replace(\" \",\"+\")\n",
    "\n",
    "    # Log the URL, record, and set numbers and the city.\n",
    "    print(f\"Processing Record {record_count} of Set {set_count} | {city}\")\n",
    "    # Add 1 to the record count.\n",
    "    record_count += 1\n",
    "# Run an API request for each of the cities.\n",
    "    try:\n",
    "        # Parse the JSON and retrieve data.\n",
    "        city_weather = requests.get(city_url).json()\n",
    "        # Parse out the needed data.\n",
    "        city_lat = city_weather[\"coord\"][\"lat\"]\n",
    "        city_lng = city_weather[\"coord\"][\"lon\"]\n",
    "        city_max_temp = city_weather[\"main\"][\"temp_max\"]\n",
    "        city_humidity = city_weather[\"main\"][\"humidity\"]\n",
    "        city_clouds = city_weather[\"clouds\"][\"all\"]\n",
    "        city_wind = city_weather[\"wind\"][\"speed\"]\n",
    "        city_country = city_weather[\"sys\"][\"country\"]\n",
    "        # Convert the date to ISO standard.\n",
    "        city_date = datetime.utcfromtimestamp(city_weather[\"dt\"]).strftime('%Y-%m-%d %H:%M:%S')\n",
    "        # Append the city information into city_data list.\n",
    "        city_data.append({\"City\": city.title(),\n",
    "                          \"Lat\": city_lat,\n",
    "                          \"Lng\": city_lng,\n",
    "                          \"Max Temp\": city_max_temp,\n",
    "                          \"Humidity\": city_humidity,\n",
    "                          \"Cloudiness\": city_clouds,\n",
    "                          \"Wind Speed\": city_wind,\n",
    "                          \"Country\": city_country,\n",
    "                          \"Date\": city_date})\n",
    "\n",
    "# If an error is experienced, skip the city.\n",
    "    except:\n",
    "        print(\"City not found. Skipping...\")\n",
    "        pass\n",
    "\n",
    "# Indicate that Data Loading is complete.\n",
    "print(\"-----------------------------\")\n",
    "print(\"Data Retrieval Complete      \")\n",
    "print(\"-----------------------------\")"
   ]
  },
  {
   "cell_type": "code",
   "execution_count": 45,
   "id": "3d0887e7",
   "metadata": {},
   "outputs": [
    {
     "data": {
      "text/plain": [
       "575"
      ]
     },
     "execution_count": 45,
     "metadata": {},
     "output_type": "execute_result"
    }
   ],
   "source": [
    "len(city_data)"
   ]
  },
  {
   "cell_type": "markdown",
   "id": "6f1b76f6",
   "metadata": {},
   "source": [
    "# 5.2.7 Create a DataFrame of City Weather Data"
   ]
  },
  {
   "cell_type": "code",
   "execution_count": 46,
   "id": "cf445e5c",
   "metadata": {},
   "outputs": [
    {
     "data": {
      "text/html": [
       "<div>\n",
       "<style scoped>\n",
       "    .dataframe tbody tr th:only-of-type {\n",
       "        vertical-align: middle;\n",
       "    }\n",
       "\n",
       "    .dataframe tbody tr th {\n",
       "        vertical-align: top;\n",
       "    }\n",
       "\n",
       "    .dataframe thead th {\n",
       "        text-align: right;\n",
       "    }\n",
       "</style>\n",
       "<table border=\"1\" class=\"dataframe\">\n",
       "  <thead>\n",
       "    <tr style=\"text-align: right;\">\n",
       "      <th></th>\n",
       "      <th>City</th>\n",
       "      <th>Lat</th>\n",
       "      <th>Lng</th>\n",
       "      <th>Max Temp</th>\n",
       "      <th>Humidity</th>\n",
       "      <th>Cloudiness</th>\n",
       "      <th>Wind Speed</th>\n",
       "      <th>Country</th>\n",
       "      <th>Date</th>\n",
       "    </tr>\n",
       "  </thead>\n",
       "  <tbody>\n",
       "    <tr>\n",
       "      <th>0</th>\n",
       "      <td>Nelson Bay</td>\n",
       "      <td>-32.7167</td>\n",
       "      <td>152.1500</td>\n",
       "      <td>60.85</td>\n",
       "      <td>69</td>\n",
       "      <td>56</td>\n",
       "      <td>10.13</td>\n",
       "      <td>AU</td>\n",
       "      <td>2021-07-22 06:43:32</td>\n",
       "    </tr>\n",
       "    <tr>\n",
       "      <th>1</th>\n",
       "      <td>Provideniya</td>\n",
       "      <td>64.3833</td>\n",
       "      <td>-173.3000</td>\n",
       "      <td>50.11</td>\n",
       "      <td>66</td>\n",
       "      <td>75</td>\n",
       "      <td>11.18</td>\n",
       "      <td>RU</td>\n",
       "      <td>2021-07-22 06:43:33</td>\n",
       "    </tr>\n",
       "    <tr>\n",
       "      <th>2</th>\n",
       "      <td>Chuy</td>\n",
       "      <td>-33.6971</td>\n",
       "      <td>-53.4616</td>\n",
       "      <td>45.19</td>\n",
       "      <td>78</td>\n",
       "      <td>100</td>\n",
       "      <td>4.72</td>\n",
       "      <td>UY</td>\n",
       "      <td>2021-07-22 06:43:33</td>\n",
       "    </tr>\n",
       "    <tr>\n",
       "      <th>3</th>\n",
       "      <td>Boda</td>\n",
       "      <td>4.3189</td>\n",
       "      <td>17.4695</td>\n",
       "      <td>73.27</td>\n",
       "      <td>81</td>\n",
       "      <td>100</td>\n",
       "      <td>4.47</td>\n",
       "      <td>CF</td>\n",
       "      <td>2021-07-22 06:43:33</td>\n",
       "    </tr>\n",
       "    <tr>\n",
       "      <th>4</th>\n",
       "      <td>Bluff</td>\n",
       "      <td>-46.6000</td>\n",
       "      <td>168.3333</td>\n",
       "      <td>46.80</td>\n",
       "      <td>67</td>\n",
       "      <td>8</td>\n",
       "      <td>9.93</td>\n",
       "      <td>NZ</td>\n",
       "      <td>2021-07-22 06:43:34</td>\n",
       "    </tr>\n",
       "    <tr>\n",
       "      <th>5</th>\n",
       "      <td>Caravelas</td>\n",
       "      <td>-17.7125</td>\n",
       "      <td>-39.2481</td>\n",
       "      <td>66.88</td>\n",
       "      <td>84</td>\n",
       "      <td>22</td>\n",
       "      <td>1.83</td>\n",
       "      <td>BR</td>\n",
       "      <td>2021-07-22 06:43:34</td>\n",
       "    </tr>\n",
       "    <tr>\n",
       "      <th>6</th>\n",
       "      <td>Punta Arenas</td>\n",
       "      <td>-53.1500</td>\n",
       "      <td>-70.9167</td>\n",
       "      <td>35.71</td>\n",
       "      <td>93</td>\n",
       "      <td>75</td>\n",
       "      <td>5.75</td>\n",
       "      <td>CL</td>\n",
       "      <td>2021-07-22 06:43:35</td>\n",
       "    </tr>\n",
       "    <tr>\n",
       "      <th>7</th>\n",
       "      <td>Lagoa</td>\n",
       "      <td>39.0500</td>\n",
       "      <td>-27.9833</td>\n",
       "      <td>66.94</td>\n",
       "      <td>75</td>\n",
       "      <td>76</td>\n",
       "      <td>16.11</td>\n",
       "      <td>PT</td>\n",
       "      <td>2021-07-22 06:43:35</td>\n",
       "    </tr>\n",
       "    <tr>\n",
       "      <th>8</th>\n",
       "      <td>Navahrudak</td>\n",
       "      <td>53.6000</td>\n",
       "      <td>25.8333</td>\n",
       "      <td>62.47</td>\n",
       "      <td>60</td>\n",
       "      <td>0</td>\n",
       "      <td>6.22</td>\n",
       "      <td>BY</td>\n",
       "      <td>2021-07-22 06:43:36</td>\n",
       "    </tr>\n",
       "    <tr>\n",
       "      <th>9</th>\n",
       "      <td>Cape Town</td>\n",
       "      <td>-33.9258</td>\n",
       "      <td>18.4232</td>\n",
       "      <td>45.88</td>\n",
       "      <td>93</td>\n",
       "      <td>75</td>\n",
       "      <td>1.01</td>\n",
       "      <td>ZA</td>\n",
       "      <td>2021-07-22 06:42:17</td>\n",
       "    </tr>\n",
       "  </tbody>\n",
       "</table>\n",
       "</div>"
      ],
      "text/plain": [
       "           City      Lat       Lng  Max Temp  Humidity  Cloudiness  \\\n",
       "0    Nelson Bay -32.7167  152.1500     60.85        69          56   \n",
       "1   Provideniya  64.3833 -173.3000     50.11        66          75   \n",
       "2          Chuy -33.6971  -53.4616     45.19        78         100   \n",
       "3          Boda   4.3189   17.4695     73.27        81         100   \n",
       "4         Bluff -46.6000  168.3333     46.80        67           8   \n",
       "5     Caravelas -17.7125  -39.2481     66.88        84          22   \n",
       "6  Punta Arenas -53.1500  -70.9167     35.71        93          75   \n",
       "7         Lagoa  39.0500  -27.9833     66.94        75          76   \n",
       "8    Navahrudak  53.6000   25.8333     62.47        60           0   \n",
       "9     Cape Town -33.9258   18.4232     45.88        93          75   \n",
       "\n",
       "   Wind Speed Country                 Date  \n",
       "0       10.13      AU  2021-07-22 06:43:32  \n",
       "1       11.18      RU  2021-07-22 06:43:33  \n",
       "2        4.72      UY  2021-07-22 06:43:33  \n",
       "3        4.47      CF  2021-07-22 06:43:33  \n",
       "4        9.93      NZ  2021-07-22 06:43:34  \n",
       "5        1.83      BR  2021-07-22 06:43:34  \n",
       "6        5.75      CL  2021-07-22 06:43:35  \n",
       "7       16.11      PT  2021-07-22 06:43:35  \n",
       "8        6.22      BY  2021-07-22 06:43:36  \n",
       "9        1.01      ZA  2021-07-22 06:42:17  "
      ]
     },
     "execution_count": 46,
     "metadata": {},
     "output_type": "execute_result"
    }
   ],
   "source": [
    "# Convert the array of dictionaries to a Pandas DataFrame.\n",
    "city_data_df = pd.DataFrame(city_data)\n",
    "city_data_df.head(10)"
   ]
  },
  {
   "cell_type": "code",
   "execution_count": 47,
   "id": "35e842bd",
   "metadata": {},
   "outputs": [
    {
     "data": {
      "text/html": [
       "<div>\n",
       "<style scoped>\n",
       "    .dataframe tbody tr th:only-of-type {\n",
       "        vertical-align: middle;\n",
       "    }\n",
       "\n",
       "    .dataframe tbody tr th {\n",
       "        vertical-align: top;\n",
       "    }\n",
       "\n",
       "    .dataframe thead th {\n",
       "        text-align: right;\n",
       "    }\n",
       "</style>\n",
       "<table border=\"1\" class=\"dataframe\">\n",
       "  <thead>\n",
       "    <tr style=\"text-align: right;\">\n",
       "      <th></th>\n",
       "      <th>City</th>\n",
       "      <th>Country</th>\n",
       "      <th>Date</th>\n",
       "      <th>Lat</th>\n",
       "      <th>Lng</th>\n",
       "      <th>Max Temp</th>\n",
       "      <th>Humidity</th>\n",
       "      <th>Cloudiness</th>\n",
       "      <th>Wind Speed</th>\n",
       "    </tr>\n",
       "  </thead>\n",
       "  <tbody>\n",
       "    <tr>\n",
       "      <th>0</th>\n",
       "      <td>Nelson Bay</td>\n",
       "      <td>AU</td>\n",
       "      <td>2021-07-22 06:43:32</td>\n",
       "      <td>-32.7167</td>\n",
       "      <td>152.1500</td>\n",
       "      <td>60.85</td>\n",
       "      <td>69</td>\n",
       "      <td>56</td>\n",
       "      <td>10.13</td>\n",
       "    </tr>\n",
       "    <tr>\n",
       "      <th>1</th>\n",
       "      <td>Provideniya</td>\n",
       "      <td>RU</td>\n",
       "      <td>2021-07-22 06:43:33</td>\n",
       "      <td>64.3833</td>\n",
       "      <td>-173.3000</td>\n",
       "      <td>50.11</td>\n",
       "      <td>66</td>\n",
       "      <td>75</td>\n",
       "      <td>11.18</td>\n",
       "    </tr>\n",
       "    <tr>\n",
       "      <th>2</th>\n",
       "      <td>Chuy</td>\n",
       "      <td>UY</td>\n",
       "      <td>2021-07-22 06:43:33</td>\n",
       "      <td>-33.6971</td>\n",
       "      <td>-53.4616</td>\n",
       "      <td>45.19</td>\n",
       "      <td>78</td>\n",
       "      <td>100</td>\n",
       "      <td>4.72</td>\n",
       "    </tr>\n",
       "    <tr>\n",
       "      <th>3</th>\n",
       "      <td>Boda</td>\n",
       "      <td>CF</td>\n",
       "      <td>2021-07-22 06:43:33</td>\n",
       "      <td>4.3189</td>\n",
       "      <td>17.4695</td>\n",
       "      <td>73.27</td>\n",
       "      <td>81</td>\n",
       "      <td>100</td>\n",
       "      <td>4.47</td>\n",
       "    </tr>\n",
       "    <tr>\n",
       "      <th>4</th>\n",
       "      <td>Bluff</td>\n",
       "      <td>NZ</td>\n",
       "      <td>2021-07-22 06:43:34</td>\n",
       "      <td>-46.6000</td>\n",
       "      <td>168.3333</td>\n",
       "      <td>46.80</td>\n",
       "      <td>67</td>\n",
       "      <td>8</td>\n",
       "      <td>9.93</td>\n",
       "    </tr>\n",
       "    <tr>\n",
       "      <th>5</th>\n",
       "      <td>Caravelas</td>\n",
       "      <td>BR</td>\n",
       "      <td>2021-07-22 06:43:34</td>\n",
       "      <td>-17.7125</td>\n",
       "      <td>-39.2481</td>\n",
       "      <td>66.88</td>\n",
       "      <td>84</td>\n",
       "      <td>22</td>\n",
       "      <td>1.83</td>\n",
       "    </tr>\n",
       "    <tr>\n",
       "      <th>6</th>\n",
       "      <td>Punta Arenas</td>\n",
       "      <td>CL</td>\n",
       "      <td>2021-07-22 06:43:35</td>\n",
       "      <td>-53.1500</td>\n",
       "      <td>-70.9167</td>\n",
       "      <td>35.71</td>\n",
       "      <td>93</td>\n",
       "      <td>75</td>\n",
       "      <td>5.75</td>\n",
       "    </tr>\n",
       "    <tr>\n",
       "      <th>7</th>\n",
       "      <td>Lagoa</td>\n",
       "      <td>PT</td>\n",
       "      <td>2021-07-22 06:43:35</td>\n",
       "      <td>39.0500</td>\n",
       "      <td>-27.9833</td>\n",
       "      <td>66.94</td>\n",
       "      <td>75</td>\n",
       "      <td>76</td>\n",
       "      <td>16.11</td>\n",
       "    </tr>\n",
       "    <tr>\n",
       "      <th>8</th>\n",
       "      <td>Navahrudak</td>\n",
       "      <td>BY</td>\n",
       "      <td>2021-07-22 06:43:36</td>\n",
       "      <td>53.6000</td>\n",
       "      <td>25.8333</td>\n",
       "      <td>62.47</td>\n",
       "      <td>60</td>\n",
       "      <td>0</td>\n",
       "      <td>6.22</td>\n",
       "    </tr>\n",
       "    <tr>\n",
       "      <th>9</th>\n",
       "      <td>Cape Town</td>\n",
       "      <td>ZA</td>\n",
       "      <td>2021-07-22 06:42:17</td>\n",
       "      <td>-33.9258</td>\n",
       "      <td>18.4232</td>\n",
       "      <td>45.88</td>\n",
       "      <td>93</td>\n",
       "      <td>75</td>\n",
       "      <td>1.01</td>\n",
       "    </tr>\n",
       "  </tbody>\n",
       "</table>\n",
       "</div>"
      ],
      "text/plain": [
       "           City Country                 Date      Lat       Lng  Max Temp  \\\n",
       "0    Nelson Bay      AU  2021-07-22 06:43:32 -32.7167  152.1500     60.85   \n",
       "1   Provideniya      RU  2021-07-22 06:43:33  64.3833 -173.3000     50.11   \n",
       "2          Chuy      UY  2021-07-22 06:43:33 -33.6971  -53.4616     45.19   \n",
       "3          Boda      CF  2021-07-22 06:43:33   4.3189   17.4695     73.27   \n",
       "4         Bluff      NZ  2021-07-22 06:43:34 -46.6000  168.3333     46.80   \n",
       "5     Caravelas      BR  2021-07-22 06:43:34 -17.7125  -39.2481     66.88   \n",
       "6  Punta Arenas      CL  2021-07-22 06:43:35 -53.1500  -70.9167     35.71   \n",
       "7         Lagoa      PT  2021-07-22 06:43:35  39.0500  -27.9833     66.94   \n",
       "8    Navahrudak      BY  2021-07-22 06:43:36  53.6000   25.8333     62.47   \n",
       "9     Cape Town      ZA  2021-07-22 06:42:17 -33.9258   18.4232     45.88   \n",
       "\n",
       "   Humidity  Cloudiness  Wind Speed  \n",
       "0        69          56       10.13  \n",
       "1        66          75       11.18  \n",
       "2        78         100        4.72  \n",
       "3        81         100        4.47  \n",
       "4        67           8        9.93  \n",
       "5        84          22        1.83  \n",
       "6        93          75        5.75  \n",
       "7        75          76       16.11  \n",
       "8        60           0        6.22  \n",
       "9        93          75        1.01  "
      ]
     },
     "execution_count": 47,
     "metadata": {},
     "output_type": "execute_result"
    }
   ],
   "source": [
    "new_column_order = [\"City\", \"Country\", \"Date\", \"Lat\",\"Lng\", \"Max Temp\", \"Humidity\",\"Cloudiness\", \"Wind Speed\"]\n",
    "city_data_df = city_data_df[new_column_order]\n",
    "city_data_df.head(10)"
   ]
  },
  {
   "cell_type": "code",
   "execution_count": 48,
   "id": "d03ac318",
   "metadata": {},
   "outputs": [],
   "source": [
    "# Create the output file (CSV).\n",
    "output_data_file = \"weather_data/cities.csv\"\n",
    "# Export the City_Data into a CSV.\n",
    "city_data_df.to_csv(output_data_file, index_label=\"City_ID\")"
   ]
  },
  {
   "cell_type": "markdown",
   "id": "fb92d353",
   "metadata": {},
   "source": [
    "# 6.3.1 Plot Lat and Temp"
   ]
  },
  {
   "cell_type": "code",
   "execution_count": 49,
   "id": "a5e3a385",
   "metadata": {},
   "outputs": [],
   "source": [
    "# Extract relevant fields from the DataFrame for plotting.\n",
    "lats = city_data_df[\"Lat\"]\n",
    "max_temps = city_data_df[\"Max Temp\"]\n",
    "humidity = city_data_df[\"Humidity\"]\n",
    "cloudiness = city_data_df[\"Cloudiness\"]\n",
    "wind_speed = city_data_df[\"Wind Speed\"]"
   ]
  },
  {
   "cell_type": "code",
   "execution_count": 50,
   "id": "e0cef602",
   "metadata": {},
   "outputs": [
    {
     "data": {
      "text/plain": [
       "'07/21/21'"
      ]
     },
     "execution_count": 50,
     "metadata": {},
     "output_type": "execute_result"
    }
   ],
   "source": [
    "# Import the time module.\n",
    "import time\n",
    "# Get today's date in seconds.\n",
    "today = time.strftime(\"%x\")\n",
    "today"
   ]
  },
  {
   "cell_type": "code",
   "execution_count": 51,
   "id": "d0bc3974",
   "metadata": {},
   "outputs": [
    {
     "data": {
      "image/png": "[encoded data removed]",
      "text/plain": [
       "<Figure size 432x288 with 1 Axes>"
      ]
     },
     "metadata": {
      "needs_background": "light"
     },
     "output_type": "display_data"
    }
   ],
   "source": [
    "# Import time module\n",
    "import time\n",
    "\n",
    "# Build the scatter plot for latitude vs. max temperature.\n",
    "plt.scatter(lats,\n",
    "            max_temps,\n",
    "            edgecolor=\"black\", linewidths=1, marker=\"o\",\n",
    "            alpha=0.8, label=\"Cities\")\n",
    "\n",
    "# Incorporate the other graph properties.\n",
    "plt.title(f\"City Latitude vs. Max Temperature \"+ time.strftime(\"%x\"))\n",
    "plt.ylabel(\"Max Temperature (F)\")\n",
    "plt.xlabel(\"Latitude\")\n",
    "plt.grid(True)\n",
    "\n",
    "# Save the figure.\n",
    "plt.savefig(\"weather_data/Fig1.png\")\n",
    "\n",
    "# Show plot.\n",
    "plt.show()"
   ]
  },
  {
   "cell_type": "code",
   "execution_count": 52,
   "id": "5f09d011",
   "metadata": {},
   "outputs": [
    {
     "data": {
      "image/png": "[encoded data removed]",
      "text/plain": [
       "<Figure size 432x288 with 1 Axes>"
      ]
     },
     "metadata": {
      "needs_background": "light"
     },
     "output_type": "display_data"
    }
   ],
   "source": [
    "# Build the scatter plots for latitude vs. humidity.\n",
    "plt.scatter(lats,\n",
    "            humidity,\n",
    "            edgecolor=\"black\", linewidths=1, marker=\"o\",\n",
    "            alpha=0.8, label=\"Cities\")\n",
    "\n",
    "# Incorporate the other graph properties.\n",
    "plt.title(f\"City Latitude vs. Humidity \"+ time.strftime(\"%x\"))\n",
    "plt.ylabel(\"Humidity (%)\")\n",
    "plt.xlabel(\"Latitude\")\n",
    "plt.grid(True)\n",
    "# Save the figure.\n",
    "plt.savefig(\"weather_data/Fig2.png\")\n",
    "# Show plot.\n",
    "plt.show()"
   ]
  },
  {
   "cell_type": "code",
   "execution_count": 53,
   "id": "c087a853",
   "metadata": {},
   "outputs": [
    {
     "data": {
      "image/png": "[encoded data removed]",
      "text/plain": [
       "<Figure size 432x288 with 1 Axes>"
      ]
     },
     "metadata": {
      "needs_background": "light"
     },
     "output_type": "display_data"
    }
   ],
   "source": [
    "# Build the scatter plots for latitude vs. cloudiness.\n",
    "plt.scatter(lats,\n",
    "            cloudiness,\n",
    "            edgecolor=\"black\", linewidths=1, marker=\"o\",\n",
    "            alpha=0.8, label=\"Cities\")\n",
    "\n",
    "# Incorporate the other graph properties.\n",
    "plt.title(f\"City Latitude vs. Cloudiness (%) \"+ time.strftime(\"%x\"))\n",
    "plt.ylabel(\"Cloudiness (%)\")\n",
    "plt.xlabel(\"Latitude\")\n",
    "plt.grid(True)\n",
    "# Save the figure.\n",
    "plt.savefig(\"weather_data/Fig3.png\")\n",
    "# Show plot.\n",
    "plt.show()"
   ]
  },
  {
   "cell_type": "code",
   "execution_count": 54,
   "id": "4a233771",
   "metadata": {},
   "outputs": [
    {
     "data": {
      "image/png": "[encoded data removed]",
      "text/plain": [
       "<Figure size 432x288 with 1 Axes>"
      ]
     },
     "metadata": {
      "needs_background": "light"
     },
     "output_type": "display_data"
    }
   ],
   "source": [
    "# Build the scatter plots for latitude vs. wind speed.\n",
    "plt.scatter(lats,\n",
    "            wind_speed,\n",
    "            edgecolor=\"black\", linewidths=1, marker=\"o\",\n",
    "            alpha=0.8, label=\"Cities\")\n",
    "\n",
    "# Incorporate the other graph properties.\n",
    "plt.title(f\"City Latitude vs. Wind Speed \"+ time.strftime(\"%x\"))\n",
    "plt.ylabel(\"Wind Speed (mph)\")\n",
    "plt.xlabel(\"Latitude\")\n",
    "plt.grid(True)\n",
    "# Save the figure.\n",
    "plt.savefig(\"weather_data/Fig4.png\")\n",
    "# Show plot.\n",
    "plt.show()"
   ]
  },
  {
   "cell_type": "code",
   "execution_count": null,
   "id": "4b5c4819",
   "metadata": {},
   "outputs": [],
   "source": [
    "# 6.4.2 Linear Regression - Find the Correlation Between Latitude and Maximum Temperature "
   ]
  },
  {
   "cell_type": "code",
   "execution_count": 55,
   "id": "351c131b",
   "metadata": {},
   "outputs": [],
   "source": [
    "# Import linregress\n",
    "from scipy.stats import linregress\n",
    "\n",
    "# Create a function to create perform linear regression on the weather data\n",
    "# and plot a regression line and the equation with the data.\n",
    "def plot_linear_regression(x_values, y_values, title, y_label, text_coordinates):\n",
    "\n",
    "    # Run regression on hemisphere weather data.\n",
    "    (slope, intercept, r_value, p_value, std_err) = linregress(x_values, y_values)\n",
    "\n",
    "    # Calculate the regression line \"y values\" from the slope and intercept.\n",
    "    regress_values = x_values * slope + intercept\n",
    "    # Get the equation of the line.\n",
    "    line_eq = \"y = \" + str(round(slope,2)) + \"x + \" + str(round(intercept,2))\n",
    "    # Create a scatter plot and plot the regression line.\n",
    "    plt.scatter(x_values,y_values)\n",
    "    plt.plot(x_values,regress_values,\"r\")\n",
    "    # Annotate the text for the line equation.\n",
    "    plt.annotate(line_eq, text_coordinates, fontsize=15, color=\"red\")\n",
    "    plt.xlabel('Latitude')\n",
    "    plt.ylabel(y_label)\n",
    "    plt.show()"
   ]
  },
  {
   "cell_type": "code",
   "execution_count": 57,
   "id": "5e3ccc9d",
   "metadata": {},
   "outputs": [
    {
     "data": {
      "text/plain": [
       "City                       Lleida\n",
       "Country                        ES\n",
       "Date          2021-07-22 06:43:38\n",
       "Lat                       41.6167\n",
       "Lng                        0.6167\n",
       "Max Temp                     79.0\n",
       "Humidity                       47\n",
       "Cloudiness                      0\n",
       "Wind Speed                   11.5\n",
       "Name: 13, dtype: object"
      ]
     },
     "execution_count": 57,
     "metadata": {},
     "output_type": "execute_result"
    }
   ],
   "source": [
    "index13 = city_data_df.loc[13]\n",
    "index13"
   ]
  },
  {
   "cell_type": "code",
   "execution_count": 61,
   "id": "04e9ac84",
   "metadata": {},
   "outputs": [
    {
     "data": {
      "text/plain": [
       "0      False\n",
       "1       True\n",
       "2      False\n",
       "3       True\n",
       "4      False\n",
       "       ...  \n",
       "570    False\n",
       "571     True\n",
       "572     True\n",
       "573    False\n",
       "574     True\n",
       "Name: Lat, Length: 575, dtype: bool"
      ]
     },
     "execution_count": 61,
     "metadata": {},
     "output_type": "execute_result"
    }
   ],
   "source": [
    "city_data_df[\"Lat\"] >= 0"
   ]
  },
  {
   "cell_type": "code",
   "execution_count": 62,
   "id": "6a2a62ed",
   "metadata": {},
   "outputs": [
    {
     "data": {
      "text/html": [
       "<div>\n",
       "<style scoped>\n",
       "    .dataframe tbody tr th:only-of-type {\n",
       "        vertical-align: middle;\n",
       "    }\n",
       "\n",
       "    .dataframe tbody tr th {\n",
       "        vertical-align: top;\n",
       "    }\n",
       "\n",
       "    .dataframe thead th {\n",
       "        text-align: right;\n",
       "    }\n",
       "</style>\n",
       "<table border=\"1\" class=\"dataframe\">\n",
       "  <thead>\n",
       "    <tr style=\"text-align: right;\">\n",
       "      <th></th>\n",
       "      <th>City</th>\n",
       "      <th>Country</th>\n",
       "      <th>Date</th>\n",
       "      <th>Lat</th>\n",
       "      <th>Lng</th>\n",
       "      <th>Max Temp</th>\n",
       "      <th>Humidity</th>\n",
       "      <th>Cloudiness</th>\n",
       "      <th>Wind Speed</th>\n",
       "    </tr>\n",
       "  </thead>\n",
       "  <tbody>\n",
       "    <tr>\n",
       "      <th>1</th>\n",
       "      <td>Provideniya</td>\n",
       "      <td>RU</td>\n",
       "      <td>2021-07-22 06:43:33</td>\n",
       "      <td>64.3833</td>\n",
       "      <td>-173.3000</td>\n",
       "      <td>50.11</td>\n",
       "      <td>66</td>\n",
       "      <td>75</td>\n",
       "      <td>11.18</td>\n",
       "    </tr>\n",
       "    <tr>\n",
       "      <th>3</th>\n",
       "      <td>Boda</td>\n",
       "      <td>CF</td>\n",
       "      <td>2021-07-22 06:43:33</td>\n",
       "      <td>4.3189</td>\n",
       "      <td>17.4695</td>\n",
       "      <td>73.27</td>\n",
       "      <td>81</td>\n",
       "      <td>100</td>\n",
       "      <td>4.47</td>\n",
       "    </tr>\n",
       "    <tr>\n",
       "      <th>7</th>\n",
       "      <td>Lagoa</td>\n",
       "      <td>PT</td>\n",
       "      <td>2021-07-22 06:43:35</td>\n",
       "      <td>39.0500</td>\n",
       "      <td>-27.9833</td>\n",
       "      <td>66.94</td>\n",
       "      <td>75</td>\n",
       "      <td>76</td>\n",
       "      <td>16.11</td>\n",
       "    </tr>\n",
       "    <tr>\n",
       "      <th>8</th>\n",
       "      <td>Navahrudak</td>\n",
       "      <td>BY</td>\n",
       "      <td>2021-07-22 06:43:36</td>\n",
       "      <td>53.6000</td>\n",
       "      <td>25.8333</td>\n",
       "      <td>62.47</td>\n",
       "      <td>60</td>\n",
       "      <td>0</td>\n",
       "      <td>6.22</td>\n",
       "    </tr>\n",
       "    <tr>\n",
       "      <th>10</th>\n",
       "      <td>Thompson</td>\n",
       "      <td>CA</td>\n",
       "      <td>2021-07-22 06:43:37</td>\n",
       "      <td>55.7435</td>\n",
       "      <td>-97.8558</td>\n",
       "      <td>64.56</td>\n",
       "      <td>77</td>\n",
       "      <td>90</td>\n",
       "      <td>2.30</td>\n",
       "    </tr>\n",
       "  </tbody>\n",
       "</table>\n",
       "</div>"
      ],
      "text/plain": [
       "           City Country                 Date      Lat       Lng  Max Temp  \\\n",
       "1   Provideniya      RU  2021-07-22 06:43:33  64.3833 -173.3000     50.11   \n",
       "3          Boda      CF  2021-07-22 06:43:33   4.3189   17.4695     73.27   \n",
       "7         Lagoa      PT  2021-07-22 06:43:35  39.0500  -27.9833     66.94   \n",
       "8    Navahrudak      BY  2021-07-22 06:43:36  53.6000   25.8333     62.47   \n",
       "10     Thompson      CA  2021-07-22 06:43:37  55.7435  -97.8558     64.56   \n",
       "\n",
       "    Humidity  Cloudiness  Wind Speed  \n",
       "1         66          75       11.18  \n",
       "3         81         100        4.47  \n",
       "7         75          76       16.11  \n",
       "8         60           0        6.22  \n",
       "10        77          90        2.30  "
      ]
     },
     "execution_count": 62,
     "metadata": {},
     "output_type": "execute_result"
    }
   ],
   "source": [
    "city_data_df.loc[(city_data_df[\"Lat\"] >= 0)].head()"
   ]
  },
  {
   "cell_type": "code",
   "execution_count": 63,
   "id": "26a46e61",
   "metadata": {},
   "outputs": [],
   "source": [
    "# Create Northern and Southern Hemisphere DataFrames.\n",
    "northern_hemi_df = city_data_df.loc[(city_data_df[\"Lat\"] >= 0)]\n",
    "southern_hemi_df = city_data_df.loc[(city_data_df[\"Lat\"] < 0)]"
   ]
  },
  {
   "cell_type": "markdown",
   "id": "64ceba8a",
   "metadata": {},
   "source": [
    "# Lat to Max Temp"
   ]
  },
  {
   "cell_type": "code",
   "execution_count": 91,
   "id": "585da633",
   "metadata": {},
   "outputs": [
    {
     "data": {
      "image/png": "[encoded data removed]",
      "text/plain": [
       "<Figure size 432x288 with 1 Axes>"
      ]
     },
     "metadata": {
      "needs_background": "light"
     },
     "output_type": "display_data"
    }
   ],
   "source": [
    "# Linear regression on the Northern Hemisphere\n",
    "x_values = northern_hemi_df[\"Lat\"]\n",
    "y_values = northern_hemi_df[\"Max Temp\"]\n",
    "# Call the function.\n",
    "plot_linear_regression(x_values, y_values,\n",
    "                       'Linear Regression on the Northern Hemisphere \\\n",
    "                        for Maximum Temperature', 'Max Temp',(10,40))"
   ]
  },
  {
   "cell_type": "code",
   "execution_count": 92,
   "id": "6711afae",
   "metadata": {},
   "outputs": [
    {
     "data": {
      "text/plain": [
       "LinregressResult(slope=-0.4282505718742641, intercept=89.47014079837646, rvalue=-0.627531996321263, pvalue=5.780731539387923e-45, stderr=0.02670076703558755, intercept_stderr=1.179235015218608)"
      ]
     },
     "execution_count": 92,
     "metadata": {},
     "output_type": "execute_result"
    }
   ],
   "source": [
    "linregress(x_values,y_values)"
   ]
  },
  {
   "cell_type": "code",
   "execution_count": 66,
   "id": "2e6d6f95",
   "metadata": {},
   "outputs": [
    {
     "data": {
      "image/png": "[encoded data removed]",
      "text/plain": [
       "<Figure size 432x288 with 1 Axes>"
      ]
     },
     "metadata": {
      "needs_background": "light"
     },
     "output_type": "display_data"
    }
   ],
   "source": [
    "# Linear regression on the Southern Hemisphere\n",
    "x_values = southern_hemi_df[\"Lat\"]\n",
    "y_values = southern_hemi_df[\"Max Temp\"]\n",
    "# Call the function.\n",
    "plot_linear_regression(x_values, y_values,\n",
    "                       'Linear Regression on the Southern Hemisphere \\\n",
    "                        for Maximum Temperature', 'Max Temp',(-50,85))"
   ]
  },
  {
   "cell_type": "code",
   "execution_count": 68,
   "id": "429efb3b",
   "metadata": {},
   "outputs": [
    {
     "data": {
      "text/plain": [
       "LinregressResult(slope=0.8274150319502712, intercept=81.38926289200217, rvalue=0.7735606568084534, pvalue=1.6672232628678277e-36, stderr=0.05123998278236757, intercept_stderr=1.317918349202064)"
      ]
     },
     "execution_count": 68,
     "metadata": {},
     "output_type": "execute_result"
    }
   ],
   "source": [
    "linregress(x_values,y_values)"
   ]
  },
  {
   "cell_type": "markdown",
   "id": "53b39e43",
   "metadata": {},
   "source": [
    "# Lat to Humidity"
   ]
  },
  {
   "cell_type": "code",
   "execution_count": 93,
   "id": "74200c18",
   "metadata": {},
   "outputs": [
    {
     "data": {
      "image/png": "[encoded data removed]",
      "text/plain": [
       "<Figure size 432x288 with 1 Axes>"
      ]
     },
     "metadata": {
      "needs_background": "light"
     },
     "output_type": "display_data"
    }
   ],
   "source": [
    "# Linear regression on the Northern Hemisphere\n",
    "x_values = northern_hemi_df[\"Lat\"]\n",
    "y_values = northern_hemi_df[\"Humidity\"]\n",
    "# Call the function.\n",
    "plot_linear_regression(x_values, y_values,\n",
    "                       'Linear Regression on the Northern Hemisphere \\\n",
    "                        for % Humidity', '% Humidity',(40,10))"
   ]
  },
  {
   "cell_type": "code",
   "execution_count": 94,
   "id": "bfe43236",
   "metadata": {},
   "outputs": [
    {
     "data": {
      "text/plain": [
       "LinregressResult(slope=-0.06760124410435235, intercept=70.60811662434186, rvalue=-0.06498928570079954, pvalue=0.19572678022238846, stderr=0.05216104037549571, intercept_stderr=2.3036838289714163)"
      ]
     },
     "execution_count": 94,
     "metadata": {},
     "output_type": "execute_result"
    }
   ],
   "source": [
    "linregress(x_values,y_values)"
   ]
  },
  {
   "cell_type": "code",
   "execution_count": 73,
   "id": "1fe85909",
   "metadata": {},
   "outputs": [
    {
     "data": {
      "image/png": "[encoded data removed]",
      "text/plain": [
       "<Figure size 432x288 with 1 Axes>"
      ]
     },
     "metadata": {
      "needs_background": "light"
     },
     "output_type": "display_data"
    }
   ],
   "source": [
    "# Linear regression on the Southern Hemisphere\n",
    "x_values = southern_hemi_df[\"Lat\"]\n",
    "y_values = southern_hemi_df[\"Humidity\"]\n",
    "# Call the function.\n",
    "plot_linear_regression(x_values, y_values,\n",
    "                       'Linear Regression on the Southern Hemisphere \\\n",
    "                        for % Humidity', '% Humidity',(-50,15))"
   ]
  },
  {
   "cell_type": "code",
   "execution_count": 74,
   "id": "f023b3c5",
   "metadata": {},
   "outputs": [
    {
     "data": {
      "text/plain": [
       "LinregressResult(slope=-0.21844717440438233, intercept=62.29877254592899, rvalue=-0.1415695315151879, pvalue=0.06016353791256198, stderr=0.1154679242500544, intercept_stderr=2.969893584074098)"
      ]
     },
     "execution_count": 74,
     "metadata": {},
     "output_type": "execute_result"
    }
   ],
   "source": [
    "linregress(x_values,y_values)"
   ]
  },
  {
   "cell_type": "markdown",
   "id": "6cf6a93f",
   "metadata": {},
   "source": [
    "# Lat to Cloudiness"
   ]
  },
  {
   "cell_type": "code",
   "execution_count": 96,
   "id": "b9431d15",
   "metadata": {},
   "outputs": [
    {
     "data": {
      "image/png": "[encoded data removed]",
      "text/plain": [
       "<Figure size 432x288 with 1 Axes>"
      ]
     },
     "metadata": {
      "needs_background": "light"
     },
     "output_type": "display_data"
    }
   ],
   "source": [
    "# Linear regression on the Northern Hemisphere\n",
    "x_values = northern_hemi_df[\"Lat\"]\n",
    "y_values = northern_hemi_df[\"Cloudiness\"]\n",
    "# Call the function.\n",
    "plot_linear_regression(x_values, y_values,\n",
    "                       'Linear Regression on the Northern Hemisphere \\\n",
    "                        for % Cloudiness', '% Cloudiness',(40,10))"
   ]
  },
  {
   "cell_type": "code",
   "execution_count": 97,
   "id": "7be46cad",
   "metadata": {},
   "outputs": [
    {
     "data": {
      "text/plain": [
       "LinregressResult(slope=-0.0170864772022994, intercept=57.604681001249176, rvalue=-0.00848711886011396, pvalue=0.865963410578964, stderr=0.10116470329911637, intercept_stderr=4.467922598460075)"
      ]
     },
     "execution_count": 97,
     "metadata": {},
     "output_type": "execute_result"
    }
   ],
   "source": [
    "linregress(x_values,y_values)"
   ]
  },
  {
   "cell_type": "code",
   "execution_count": 76,
   "id": "015cec78",
   "metadata": {},
   "outputs": [
    {
     "data": {
      "image/png": "[encoded data removed]",
      "text/plain": [
       "<Figure size 432x288 with 1 Axes>"
      ]
     },
     "metadata": {
      "needs_background": "light"
     },
     "output_type": "display_data"
    }
   ],
   "source": [
    "# Linear regression on the Southern Hemisphere\n",
    "x_values = southern_hemi_df[\"Lat\"]\n",
    "y_values = southern_hemi_df[\"Cloudiness\"]\n",
    "# Call the function.\n",
    "plot_linear_regression(x_values, y_values,\n",
    "                       'Linear Regression on the Southern Hemisphere \\\n",
    "                        for % Cloudiness', '% Cloudiness',(-50,15))"
   ]
  },
  {
   "cell_type": "code",
   "execution_count": 77,
   "id": "5072b366",
   "metadata": {},
   "outputs": [
    {
     "data": {
      "text/plain": [
       "LinregressResult(slope=-0.47260439107149677, intercept=32.88584708768711, rvalue=-0.15463722789968182, pvalue=0.03986775232199986, stderr=0.22824906629163913, intercept_stderr=5.870681766846806)"
      ]
     },
     "execution_count": 77,
     "metadata": {},
     "output_type": "execute_result"
    }
   ],
   "source": [
    "linregress(x_values,y_values)"
   ]
  },
  {
   "cell_type": "markdown",
   "id": "7280452e",
   "metadata": {},
   "source": [
    "# Lat to Wind Speed"
   ]
  },
  {
   "cell_type": "code",
   "execution_count": 89,
   "id": "0d58c4c1",
   "metadata": {},
   "outputs": [
    {
     "data": {
      "image/png": "[encoded data removed]",
      "text/plain": [
       "<Figure size 432x288 with 1 Axes>"
      ]
     },
     "metadata": {
      "needs_background": "light"
     },
     "output_type": "display_data"
    }
   ],
   "source": [
    "# Linear regression on the Northern Hemisphere\n",
    "x_values = northern_hemi_df[\"Lat\"]\n",
    "y_values = northern_hemi_df[\"Wind Speed\"]\n",
    "# Call the function.\n",
    "plot_linear_regression(x_values, y_values,\n",
    "                       'Linear Regression on the Northern Hemisphere \\\n",
    "                        for Wind Speed', 'Wind Speed',(40,30))"
   ]
  },
  {
   "cell_type": "code",
   "execution_count": 90,
   "id": "e2d122c9",
   "metadata": {},
   "outputs": [
    {
     "data": {
      "text/plain": [
       "LinregressResult(slope=-0.02747924320949267, intercept=9.172486242681112, rvalue=-0.09149311140083494, pvalue=0.06824784343763705, stderr=0.015029460450807072, intercept_stderr=0.6637736661202603)"
      ]
     },
     "execution_count": 90,
     "metadata": {},
     "output_type": "execute_result"
    }
   ],
   "source": [
    "linregress(x_values,y_values)"
   ]
  },
  {
   "cell_type": "code",
   "execution_count": 87,
   "id": "7628b00d",
   "metadata": {},
   "outputs": [
    {
     "data": {
      "image/png": "[encoded data removed]",
      "text/plain": [
       "<Figure size 432x288 with 1 Axes>"
      ]
     },
     "metadata": {
      "needs_background": "light"
     },
     "output_type": "display_data"
    }
   ],
   "source": [
    "# Linear regression on the Southern Hemisphere\n",
    "x_values = southern_hemi_df[\"Lat\"]\n",
    "y_values = southern_hemi_df[\"Wind Speed\"]\n",
    "# Call the function.\n",
    "plot_linear_regression(x_values, y_values,\n",
    "                       'Linear Regression on the Southern Hemisphere \\\n",
    "                        for Wind Speed', 'Wind Speed',(-50,25))"
   ]
  },
  {
   "cell_type": "code",
   "execution_count": 88,
   "id": "ffddf392",
   "metadata": {},
   "outputs": [
    {
     "data": {
      "text/plain": [
       "LinregressResult(slope=-0.013120128635996474, intercept=7.460176343340715, rvalue=-0.030453001420545828, pvalue=0.6874090907822821, stderr=0.03255273579590339, intercept_stderr=0.8372728774005579)"
      ]
     },
     "execution_count": 88,
     "metadata": {},
     "output_type": "execute_result"
    }
   ],
   "source": [
    "linregress(x_values,y_values)"
   ]
  },
  {
   "cell_type": "code",
   "execution_count": null,
   "id": "b2dc70cf",
   "metadata": {},
   "outputs": [],
   "source": []
  }
 ],
 "metadata": {
  "kernelspec": {
   "display_name": "Python 3",
   "language": "python",
   "name": "python3"
  },
  "language_info": {
   "codemirror_mode": {
    "name": "ipython",
    "version": 3
   },
   "file_extension": ".py",
   "mimetype": "text/x-python",
   "name": "python",
   "nbconvert_exporter": "python",
   "pygments_lexer": "ipython3",
   "version": "3.7.10"
  }
 },
 "nbformat": 4,
 "nbformat_minor": 5
}
