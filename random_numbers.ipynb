{
 "cells": [
  {
   "cell_type": "code",
   "execution_count": 8,
   "id": "ed781922",
   "metadata": {},
   "outputs": [],
   "source": [
    "# Import the random module.\n",
    "import random"
   ]
  },
  {
   "cell_type": "code",
   "execution_count": 9,
   "id": "bbd0fa0d",
   "metadata": {},
   "outputs": [
    {
     "data": {
      "text/plain": [
       "-15"
      ]
     },
     "execution_count": 9,
     "metadata": {},
     "output_type": "execute_result"
    }
   ],
   "source": [
    "random.randint(-90, 90)"
   ]
  },
  {
   "cell_type": "code",
   "execution_count": 10,
   "id": "ec175b57",
   "metadata": {},
   "outputs": [
    {
     "data": {
      "text/plain": [
       "0.9626443100175041"
      ]
     },
     "execution_count": 10,
     "metadata": {},
     "output_type": "execute_result"
    }
   ],
   "source": [
    "random.random()"
   ]
  },
  {
   "cell_type": "code",
   "execution_count": 13,
   "id": "7f98d45b",
   "metadata": {},
   "outputs": [
    {
     "data": {
      "text/plain": [
       "[15.345087452623236,\n",
       " -85.25023158317997,\n",
       " 79.08075973457143,\n",
       " -34.6266739954642,\n",
       " -19.794000884154883,\n",
       " 7.4835965833688345,\n",
       " -74.60003890781458,\n",
       " -89.8624349621892,\n",
       " -70.29150182992309,\n",
       " 5.430021737458888]"
      ]
     },
     "execution_count": 13,
     "metadata": {},
     "output_type": "execute_result"
    }
   ],
   "source": [
    "x = 1\n",
    "latitudes = []\n",
    "while x < 11:\n",
    "    random_lat = random.randint(-90, 89) + random.random()\n",
    "    latitudes.append(random_lat)\n",
    "    x += 1\n",
    "    \n",
    "latitudes"
   ]
  },
  {
   "cell_type": "code",
   "execution_count": 14,
   "id": "af4f642b",
   "metadata": {},
   "outputs": [
    {
     "data": {
      "text/plain": [
       "-36"
      ]
     },
     "execution_count": 14,
     "metadata": {},
     "output_type": "execute_result"
    }
   ],
   "source": [
    "random.randrange(-90, 90, step=3)"
   ]
  },
  {
   "cell_type": "code",
   "execution_count": 16,
   "id": "b2ae91c5",
   "metadata": {},
   "outputs": [
    {
     "data": {
      "text/plain": [
       "-44.556584346153194"
      ]
     },
     "execution_count": 16,
     "metadata": {},
     "output_type": "execute_result"
    }
   ],
   "source": [
    "random.uniform(-90, 90)"
   ]
  },
  {
   "cell_type": "code",
   "execution_count": 17,
   "id": "dc0bfc2a",
   "metadata": {},
   "outputs": [],
   "source": [
    "# no need to import the random module if we import the NumPy module, as it's redundant.\n",
    "# Import the NumPy module.\n",
    "import numpy as np "
   ]
  },
  {
   "cell_type": "code",
   "execution_count": 18,
   "id": "2ea01426",
   "metadata": {},
   "outputs": [
    {
     "data": {
      "text/plain": [
       "55.991448679174454"
      ]
     },
     "execution_count": 18,
     "metadata": {},
     "output_type": "execute_result"
    }
   ],
   "source": [
    "np.random.uniform(-90.000, 90.000)"
   ]
  },
  {
   "cell_type": "code",
   "execution_count": 19,
   "id": "34a8a5ae",
   "metadata": {},
   "outputs": [
    {
     "data": {
      "text/plain": [
       "86.51270002683736"
      ]
     },
     "execution_count": 19,
     "metadata": {},
     "output_type": "execute_result"
    }
   ],
   "source": [
    "np.random.uniform(low=-90.000, high=90.000)"
   ]
  },
  {
   "cell_type": "code",
   "execution_count": 20,
   "id": "18b03af9",
   "metadata": {},
   "outputs": [
    {
     "data": {
      "text/plain": [
       "array([ 34.01482689, -68.07354323, -65.30017756, -77.07972882,\n",
       "       -23.76006871, -39.42879923,  27.23217061, -36.23378096,\n",
       "        -0.46252765, -52.72512415, -11.01400138,  58.80023986,\n",
       "       -14.91387056, -67.35090129, -48.84085075,  18.87032651,\n",
       "       -68.20395386,  33.57015668,  82.04939319, -55.96385981,\n",
       "       -19.73266493,  79.48754371, -40.51959244,  73.55358251,\n",
       "       -64.05134394,  79.75181995, -80.31120672, -67.29184595,\n",
       "        49.48856156,  49.74754282,  40.48585045, -24.25935743,\n",
       "        16.51332203,  22.09446828,  32.07616435,  81.56327107,\n",
       "        34.139274  , -77.09614755,  41.06610779,  54.2498427 ,\n",
       "       -72.10661985, -81.84001252,  53.92056331, -42.3494376 ,\n",
       "        28.00597354,  78.94602477,   5.10236453,  50.09532284,\n",
       "        59.64876618, -16.17777939])"
      ]
     },
     "execution_count": 20,
     "metadata": {},
     "output_type": "execute_result"
    }
   ],
   "source": [
    "np.random.uniform(-90.000, 90.000, size=50)"
   ]
  },
  {
   "cell_type": "code",
   "execution_count": 21,
   "id": "b5172437",
   "metadata": {},
   "outputs": [],
   "source": [
    "# Import timeit.\n",
    "import timeit"
   ]
  },
  {
   "cell_type": "code",
   "execution_count": 22,
   "id": "c3423f99",
   "metadata": {},
   "outputs": [
    {
     "name": "stdout",
     "output_type": "stream",
     "text": [
      "10.7 µs ± 85 ns per loop (mean ± std. dev. of 7 runs, 100000 loops each)\n"
     ]
    }
   ],
   "source": [
    "%timeit np.random.uniform(-90.000, 90.000, size=1500)"
   ]
  },
  {
   "cell_type": "code",
   "execution_count": 23,
   "id": "af588ce2",
   "metadata": {},
   "outputs": [
    {
     "name": "stdout",
     "output_type": "stream",
     "text": [
      "1.13 ms ± 7.93 µs per loop (mean ± std. dev. of 7 runs, 1000 loops each)\n"
     ]
    }
   ],
   "source": [
    "def latitudes(size):\n",
    "    latitudes = []\n",
    "    x = 0\n",
    "    while x < (size):\n",
    "        random_lat = random.randint(-90, 90) + random.random()\n",
    "        latitudes.append(random_lat)\n",
    "        x += 1\n",
    "    return latitudes\n",
    "# Call the function with 1500.\n",
    "%timeit latitudes(1500)"
   ]
  },
  {
   "cell_type": "code",
   "execution_count": null,
   "id": "c8649cd0",
   "metadata": {},
   "outputs": [],
   "source": [
    "# skill drill\n",
    "# Refactor the code for the while loop with the %timeit magic command \n",
    "# and write a for loop that will generate the 1,500 latitudes.\n",
    "\n",
    "def latitudes(size):\n",
    "    latitudes = []\n",
    "    x = 0\n",
    "    while x < (size):\n",
    "        random_lat = random.randint(-90, 90) + random.random()\n",
    "        latitudes.append(random_lat)\n",
    "        x += 1\n",
    "    return latitudes\n",
    "\n",
    "# Call the function with 1500.\n",
    "%timeit latitudes(1500)"
   ]
  },
  {
   "cell_type": "code",
   "execution_count": null,
   "id": "fc4782be",
   "metadata": {},
   "outputs": [],
   "source": []
  }
 ],
 "metadata": {
  "kernelspec": {
   "display_name": "Python 3",
   "language": "python",
   "name": "python3"
  },
  "language_info": {
   "codemirror_mode": {
    "name": "ipython",
    "version": 3
   },
   "file_extension": ".py",
   "mimetype": "text/x-python",
   "name": "python",
   "nbconvert_exporter": "python",
   "pygments_lexer": "ipython3",
   "version": "3.8.8"
  }
 },
 "nbformat": 4,
 "nbformat_minor": 5
}
